{
  "cells": [
    {
      "cell_type": "markdown",
      "id": "42289889-bd57-434e-9637-d3e354756316",
      "metadata": {
        "id": "42289889-bd57-434e-9637-d3e354756316"
      },
      "source": [
        "<center> <img src = https://static.tildacdn.com/tild3866-3832-4636-a265-656539366135/hh.jpg alt=\"drawing\" style=\"width:500px;\">"
      ]
    },
    {
      "cell_type": "markdown",
      "id": "829cb75b-f14e-4ba8-9195-7ba929a7d656",
      "metadata": {
        "id": "829cb75b-f14e-4ba8-9195-7ba929a7d656",
        "tags": []
      },
      "source": [
        "# <center> Проект: Анализ вакансий из HeadHunter\n",
        "   "
      ]
    },
    {
      "cell_type": "code",
      "execution_count": 1,
      "id": "dccfde33-2452-43fb-a8a5-5c6ebc02a71d",
      "metadata": {
        "id": "dccfde33-2452-43fb-a8a5-5c6ebc02a71d"
      },
      "outputs": [],
      "source": [
        "import pandas as pd\n",
        "import psycopg2\n",
        "import seaborn as sns\n",
        "import matplotlib.pyplot as plt"
      ]
    },
    {
      "cell_type": "code",
      "execution_count": 2,
      "id": "oVKH4ehvf8Ay",
      "metadata": {
        "id": "oVKH4ehvf8Ay"
      },
      "outputs": [],
      "source": [
        "# параметры подключения. Работа с базой данных из Python. Удалить перед фиксированием!!!\n"
      ]
    },
    {
      "cell_type": "code",
      "execution_count": 3,
      "id": "G4X_q8KBf7SF",
      "metadata": {
        "id": "G4X_q8KBf7SF"
      },
      "outputs": [],
      "source": [
        "connection = psycopg2.connect(\n",
        "    dbname=DBNAME,\n",
        "    user=USER,\n",
        "    host=HOST,\n",
        "    password=PASSWORD,\n",
        "    port=PORT\n",
        ")"
      ]
    },
    {
      "cell_type": "markdown",
      "id": "0dc6476b-7a00-44f1-ac93-6e3baed33a29",
      "metadata": {
        "id": "0dc6476b-7a00-44f1-ac93-6e3baed33a29"
      },
      "source": [
        "# Юнит 3. Предварительный анализ данных"
      ]
    },
    {
      "cell_type": "markdown",
      "id": "889782b6-8d1c-410e-8920-e57f27917c64",
      "metadata": {
        "id": "889782b6-8d1c-410e-8920-e57f27917c64"
      },
      "source": [
        "1. Напишем запрос, который посчитает количество вакансий в нашей базе (вакансии находятся в таблице vacancies). "
      ]
    },
    {
      "cell_type": "code",
      "execution_count": 4,
      "id": "28f2b3b3",
      "metadata": {},
      "outputs": [],
      "source": [
        "import warnings\n",
        "warnings.filterwarnings('ignore')"
      ]
    },
    {
      "cell_type": "code",
      "execution_count": 5,
      "id": "bc39e68e-ed02-4ee2-9235-7258a2f867a8",
      "metadata": {
        "id": "bc39e68e-ed02-4ee2-9235-7258a2f867a8"
      },
      "outputs": [],
      "source": [
        "# текст запроса\n",
        "query_3_1 = f'''select\n",
        "                  count(*) as \"Количество вакансий\"\n",
        "                from \n",
        "                  public.vacancies\n",
        "             '''"
      ]
    },
    {
      "cell_type": "code",
      "execution_count": 6,
      "id": "7mAwtsk4hEHY",
      "metadata": {
        "id": "7mAwtsk4hEHY"
      },
      "outputs": [
        {
          "data": {
            "text/html": [
              "<div>\n",
              "<style scoped>\n",
              "    .dataframe tbody tr th:only-of-type {\n",
              "        vertical-align: middle;\n",
              "    }\n",
              "\n",
              "    .dataframe tbody tr th {\n",
              "        vertical-align: top;\n",
              "    }\n",
              "\n",
              "    .dataframe thead th {\n",
              "        text-align: right;\n",
              "    }\n",
              "</style>\n",
              "<table border=\"1\" class=\"dataframe\">\n",
              "  <thead>\n",
              "    <tr style=\"text-align: right;\">\n",
              "      <th></th>\n",
              "      <th>Количество вакансий</th>\n",
              "    </tr>\n",
              "  </thead>\n",
              "  <tbody>\n",
              "    <tr>\n",
              "      <th>0</th>\n",
              "      <td>49197</td>\n",
              "    </tr>\n",
              "  </tbody>\n",
              "</table>\n",
              "</div>"
            ],
            "text/plain": [
              "   Количество вакансий\n",
              "0                49197"
            ]
          },
          "execution_count": 6,
          "metadata": {},
          "output_type": "execute_result"
        }
      ],
      "source": [
        "# результат запроса\n",
        "count_vacancies = pd.read_sql_query(query_3_1, connection)\n",
        "count_vacancies"
      ]
    },
    {
      "cell_type": "markdown",
      "id": "b583485d-1f9e-494e-ada4-80ffff7c53d6",
      "metadata": {
        "id": "b583485d-1f9e-494e-ada4-80ffff7c53d6"
      },
      "source": [
        "2. Напишите запрос, который посчитает количество работодателей (таблица employers). "
      ]
    },
    {
      "cell_type": "code",
      "execution_count": 7,
      "id": "5408c52c-3407-4a63-b25b-1aafa2322d28",
      "metadata": {
        "id": "5408c52c-3407-4a63-b25b-1aafa2322d28"
      },
      "outputs": [],
      "source": [
        "# текст запроса\n",
        "query_3_2 = f'''select\n",
        "                  count(*) as \"Количество работодателей\"\n",
        "                from\n",
        "                  public.employers  \n",
        "             ''' "
      ]
    },
    {
      "cell_type": "code",
      "execution_count": 8,
      "id": "jVL4eshKhdqc",
      "metadata": {
        "id": "jVL4eshKhdqc"
      },
      "outputs": [
        {
          "data": {
            "text/html": [
              "<div>\n",
              "<style scoped>\n",
              "    .dataframe tbody tr th:only-of-type {\n",
              "        vertical-align: middle;\n",
              "    }\n",
              "\n",
              "    .dataframe tbody tr th {\n",
              "        vertical-align: top;\n",
              "    }\n",
              "\n",
              "    .dataframe thead th {\n",
              "        text-align: right;\n",
              "    }\n",
              "</style>\n",
              "<table border=\"1\" class=\"dataframe\">\n",
              "  <thead>\n",
              "    <tr style=\"text-align: right;\">\n",
              "      <th></th>\n",
              "      <th>Количество работодателей</th>\n",
              "    </tr>\n",
              "  </thead>\n",
              "  <tbody>\n",
              "    <tr>\n",
              "      <th>0</th>\n",
              "      <td>23501</td>\n",
              "    </tr>\n",
              "  </tbody>\n",
              "</table>\n",
              "</div>"
            ],
            "text/plain": [
              "   Количество работодателей\n",
              "0                     23501"
            ]
          },
          "execution_count": 8,
          "metadata": {},
          "output_type": "execute_result"
        }
      ],
      "source": [
        "# результат запроса\n",
        "count_employers = pd.read_sql_query(query_3_2, connection)\n",
        "count_employers"
      ]
    },
    {
      "cell_type": "markdown",
      "id": "a2bfff1f-c975-4bf6-84be-2185d79dcb76",
      "metadata": {
        "id": "a2bfff1f-c975-4bf6-84be-2185d79dcb76"
      },
      "source": [
        "3. Посчитате с помощью запроса количество регионов (таблица areas)."
      ]
    },
    {
      "cell_type": "code",
      "execution_count": 9,
      "id": "1m8QJwBYhey6",
      "metadata": {
        "id": "1m8QJwBYhey6"
      },
      "outputs": [],
      "source": [
        "# текст запроса\n",
        "query_3_3 = f'''select\n",
        "                  count(*) as \"Количество регионов\"\n",
        "                from\n",
        "                  public.areas  \n",
        "             '''"
      ]
    },
    {
      "cell_type": "code",
      "execution_count": 10,
      "id": "EZsn9tlfhe7f",
      "metadata": {
        "id": "EZsn9tlfhe7f"
      },
      "outputs": [
        {
          "data": {
            "text/html": [
              "<div>\n",
              "<style scoped>\n",
              "    .dataframe tbody tr th:only-of-type {\n",
              "        vertical-align: middle;\n",
              "    }\n",
              "\n",
              "    .dataframe tbody tr th {\n",
              "        vertical-align: top;\n",
              "    }\n",
              "\n",
              "    .dataframe thead th {\n",
              "        text-align: right;\n",
              "    }\n",
              "</style>\n",
              "<table border=\"1\" class=\"dataframe\">\n",
              "  <thead>\n",
              "    <tr style=\"text-align: right;\">\n",
              "      <th></th>\n",
              "      <th>Количество регионов</th>\n",
              "    </tr>\n",
              "  </thead>\n",
              "  <tbody>\n",
              "    <tr>\n",
              "      <th>0</th>\n",
              "      <td>1362</td>\n",
              "    </tr>\n",
              "  </tbody>\n",
              "</table>\n",
              "</div>"
            ],
            "text/plain": [
              "   Количество регионов\n",
              "0                 1362"
            ]
          },
          "execution_count": 10,
          "metadata": {},
          "output_type": "execute_result"
        }
      ],
      "source": [
        "# результат запроса\n",
        "count_areas = pd.read_sql_query(query_3_3, connection)\n",
        "count_areas"
      ]
    },
    {
      "cell_type": "markdown",
      "id": "41bb59f3-53cc-4a67-a5bc-bedf573955e4",
      "metadata": {
        "id": "41bb59f3-53cc-4a67-a5bc-bedf573955e4"
      },
      "source": [
        "4. Посчитате с помощью запроса количество сфер деятельности в базе (таблица industries)."
      ]
    },
    {
      "cell_type": "code",
      "execution_count": 11,
      "id": "d286cf4c-707b-4cd2-9190-7ab3587d04a1",
      "metadata": {
        "id": "d286cf4c-707b-4cd2-9190-7ab3587d04a1"
      },
      "outputs": [],
      "source": [
        "# текст запроса\n",
        "query_3_4 = f'''select\n",
        "                  count(*) as \"Количество сфер деятельности\"\n",
        "                from\n",
        "                  public.industries  \n",
        "             '''"
      ]
    },
    {
      "cell_type": "code",
      "execution_count": 12,
      "id": "JYAaoZ4qhfzW",
      "metadata": {
        "id": "JYAaoZ4qhfzW"
      },
      "outputs": [
        {
          "data": {
            "text/html": [
              "<div>\n",
              "<style scoped>\n",
              "    .dataframe tbody tr th:only-of-type {\n",
              "        vertical-align: middle;\n",
              "    }\n",
              "\n",
              "    .dataframe tbody tr th {\n",
              "        vertical-align: top;\n",
              "    }\n",
              "\n",
              "    .dataframe thead th {\n",
              "        text-align: right;\n",
              "    }\n",
              "</style>\n",
              "<table border=\"1\" class=\"dataframe\">\n",
              "  <thead>\n",
              "    <tr style=\"text-align: right;\">\n",
              "      <th></th>\n",
              "      <th>Количество сфер деятельности</th>\n",
              "    </tr>\n",
              "  </thead>\n",
              "  <tbody>\n",
              "    <tr>\n",
              "      <th>0</th>\n",
              "      <td>294</td>\n",
              "    </tr>\n",
              "  </tbody>\n",
              "</table>\n",
              "</div>"
            ],
            "text/plain": [
              "   Количество сфер деятельности\n",
              "0                           294"
            ]
          },
          "execution_count": 12,
          "metadata": {},
          "output_type": "execute_result"
        }
      ],
      "source": [
        "# результат запроса\n",
        "count_industries = pd.read_sql_query(query_3_4, connection)\n",
        "count_industries"
      ]
    },
    {
      "cell_type": "markdown",
      "id": "9a8a2181-6914-448b-85f1-38f5f18b8a93",
      "metadata": {
        "id": "9a8a2181-6914-448b-85f1-38f5f18b8a93"
      },
      "source": [
        "***"
      ]
    },
    {
      "cell_type": "markdown",
      "id": "b763de37",
      "metadata": {},
      "source": [
        "Предварительный анализ показал, что в наших данных содержится 49129 вакансий из 294 различных сфер деятельности, их предоставляют 23501 работодатель.\n",
        "\n",
        "Широкая география вакансий, в данных представлено 1362 города.\n",
        "\n",
        "Из этого мы можем сделать вывод, что рынок труда динамичен, с большим разнообразием возможностей как для работодателей, так и для работников."
      ]
    },
    {
      "cell_type": "markdown",
      "id": "8d62a9f3-f64e-4fe7-bdac-c4dffa16155e",
      "metadata": {
        "id": "8d62a9f3-f64e-4fe7-bdac-c4dffa16155e"
      },
      "source": [
        "# Юнит 4. Детальный анализ вакансий"
      ]
    },
    {
      "cell_type": "markdown",
      "id": "93053d3d-b284-481a-9cf7-012d7014c0e0",
      "metadata": {
        "id": "93053d3d-b284-481a-9cf7-012d7014c0e0"
      },
      "source": [
        "1. Напишите запрос, который позволит узнать, сколько (cnt) вакансий в каждом регионе (area).\n",
        "Отсортируйте по количеству вакансий в порядке убывания."
      ]
    },
    {
      "cell_type": "code",
      "execution_count": 13,
      "id": "3f069da6-fdc9-4ae7-b514-fafe2675efd3",
      "metadata": {
        "id": "3f069da6-fdc9-4ae7-b514-fafe2675efd3"
      },
      "outputs": [],
      "source": [
        "# текст запроса\n",
        "query_4_1 = f'''select\n",
        "                  a.name,\n",
        "                  count(v.id)\n",
        "                from\n",
        "                  public.vacancies as v\n",
        "                  join public.areas as a on v.area_id = a.id\n",
        "                group by\n",
        "                  a.name\n",
        "                order by\n",
        "                  2 desc \n",
        "                limit 5\n",
        "            '''"
      ]
    },
    {
      "cell_type": "code",
      "execution_count": 14,
      "id": "P7QL86hrjhRJ",
      "metadata": {
        "id": "P7QL86hrjhRJ"
      },
      "outputs": [
        {
          "data": {
            "text/html": [
              "<div>\n",
              "<style scoped>\n",
              "    .dataframe tbody tr th:only-of-type {\n",
              "        vertical-align: middle;\n",
              "    }\n",
              "\n",
              "    .dataframe tbody tr th {\n",
              "        vertical-align: top;\n",
              "    }\n",
              "\n",
              "    .dataframe thead th {\n",
              "        text-align: right;\n",
              "    }\n",
              "</style>\n",
              "<table border=\"1\" class=\"dataframe\">\n",
              "  <thead>\n",
              "    <tr style=\"text-align: right;\">\n",
              "      <th></th>\n",
              "      <th>name</th>\n",
              "      <th>count</th>\n",
              "    </tr>\n",
              "  </thead>\n",
              "  <tbody>\n",
              "    <tr>\n",
              "      <th>0</th>\n",
              "      <td>Москва</td>\n",
              "      <td>5333</td>\n",
              "    </tr>\n",
              "    <tr>\n",
              "      <th>1</th>\n",
              "      <td>Санкт-Петербург</td>\n",
              "      <td>2851</td>\n",
              "    </tr>\n",
              "    <tr>\n",
              "      <th>2</th>\n",
              "      <td>Минск</td>\n",
              "      <td>2112</td>\n",
              "    </tr>\n",
              "    <tr>\n",
              "      <th>3</th>\n",
              "      <td>Новосибирск</td>\n",
              "      <td>2006</td>\n",
              "    </tr>\n",
              "    <tr>\n",
              "      <th>4</th>\n",
              "      <td>Алматы</td>\n",
              "      <td>1892</td>\n",
              "    </tr>\n",
              "  </tbody>\n",
              "</table>\n",
              "</div>"
            ],
            "text/plain": [
              "              name  count\n",
              "0           Москва   5333\n",
              "1  Санкт-Петербург   2851\n",
              "2            Минск   2112\n",
              "3      Новосибирск   2006\n",
              "4           Алматы   1892"
            ]
          },
          "execution_count": 14,
          "metadata": {},
          "output_type": "execute_result"
        }
      ],
      "source": [
        "# результат запроса\n",
        "df_4_1 = pd.read_sql_query(query_4_1, connection)\n",
        "df_4_1"
      ]
    },
    {
      "cell_type": "markdown",
      "id": "4266f0b6-1646-492a-88b4-2f6a46502135",
      "metadata": {
        "id": "4266f0b6-1646-492a-88b4-2f6a46502135"
      },
      "source": [
        "2. Напишите запрос, чтобы определить у какого количества вакансий заполнено хотя бы одно из двух полей с зарплатой."
      ]
    },
    {
      "cell_type": "code",
      "execution_count": 15,
      "id": "0c44b350-72eb-4d65-8b54-a1fc449ba9fd",
      "metadata": {
        "id": "0c44b350-72eb-4d65-8b54-a1fc449ba9fd"
      },
      "outputs": [],
      "source": [
        "# текст запроса\n",
        "query_4_2 = f'''select\n",
        "                  COUNT(*)\n",
        "                from\n",
        "                  public.vacancies\n",
        "                where\n",
        "                  salary_from IS NOT NULL or salary_to IS NOT NULL  \n",
        "            '''"
      ]
    },
    {
      "cell_type": "code",
      "execution_count": 16,
      "id": "rhvwaMDkoWTi",
      "metadata": {
        "id": "rhvwaMDkoWTi"
      },
      "outputs": [
        {
          "data": {
            "text/plain": [
              "24073"
            ]
          },
          "execution_count": 16,
          "metadata": {},
          "output_type": "execute_result"
        }
      ],
      "source": [
        "# результат запроса\n",
        "df_4_2 = pd.read_sql_query(query_4_2, connection)\n",
        "df_4_2.iloc[:, 0][0]"
      ]
    },
    {
      "cell_type": "markdown",
      "id": "635c4d5d-f323-4c66-b428-50a088120aa0",
      "metadata": {
        "id": "635c4d5d-f323-4c66-b428-50a088120aa0"
      },
      "source": [
        "3. Найдите средние значения для нижней и верхней границы зарплатной вилки. Округлите значения до целого."
      ]
    },
    {
      "cell_type": "code",
      "execution_count": 17,
      "id": "603cdbe4-0ec3-4106-8eaf-c73fcdd29165",
      "metadata": {
        "id": "603cdbe4-0ec3-4106-8eaf-c73fcdd29165"
      },
      "outputs": [],
      "source": [
        "# текст запроса\n",
        "query_4_3 = f'''select\n",
        "                  round(avg(salary_from)):: int as \"Среднее нижней границы зарплатной вилки\",\n",
        "                  round(avg(salary_to)):: int as \"Среднее верхней границы зарплатной вилки\"\n",
        "                from\n",
        "                  public.vacancies  \n",
        "            '''"
      ]
    },
    {
      "cell_type": "code",
      "execution_count": 18,
      "id": "pswpAb66ovZZ",
      "metadata": {
        "id": "pswpAb66ovZZ"
      },
      "outputs": [
        {
          "data": {
            "text/html": [
              "<div>\n",
              "<style scoped>\n",
              "    .dataframe tbody tr th:only-of-type {\n",
              "        vertical-align: middle;\n",
              "    }\n",
              "\n",
              "    .dataframe tbody tr th {\n",
              "        vertical-align: top;\n",
              "    }\n",
              "\n",
              "    .dataframe thead th {\n",
              "        text-align: right;\n",
              "    }\n",
              "</style>\n",
              "<table border=\"1\" class=\"dataframe\">\n",
              "  <thead>\n",
              "    <tr style=\"text-align: right;\">\n",
              "      <th></th>\n",
              "      <th>Среднее нижней границы зарплатной</th>\n",
              "      <th>Среднее верхней границы зарплатно</th>\n",
              "    </tr>\n",
              "  </thead>\n",
              "  <tbody>\n",
              "    <tr>\n",
              "      <th>0</th>\n",
              "      <td>71065</td>\n",
              "      <td>110537</td>\n",
              "    </tr>\n",
              "  </tbody>\n",
              "</table>\n",
              "</div>"
            ],
            "text/plain": [
              "   Среднее нижней границы зарплатной  Среднее верхней границы зарплатно\n",
              "0                              71065                             110537"
            ]
          },
          "execution_count": 18,
          "metadata": {},
          "output_type": "execute_result"
        }
      ],
      "source": [
        "# результат запроса\n",
        "df_4_3 = pd.read_sql_query(query_4_3, connection)\n",
        "df_4_3"
      ]
    },
    {
      "cell_type": "markdown",
      "id": "f3fdaec9-5fd3-4260-9cf5-1d7406b628a5",
      "metadata": {
        "id": "f3fdaec9-5fd3-4260-9cf5-1d7406b628a5"
      },
      "source": [
        "4. Напишите запрос, который выведет количество вакансий для каждого сочетания типа рабочего графика (schedule) и типа трудоустройства (employment), используемого в вакансиях. Результат отсортируйте по убыванию количества.\n"
      ]
    },
    {
      "cell_type": "code",
      "execution_count": 19,
      "id": "1ea710ec-871b-431e-9462-c7d0fd87011b",
      "metadata": {
        "id": "1ea710ec-871b-431e-9462-c7d0fd87011b"
      },
      "outputs": [],
      "source": [
        "# текст запроса\n",
        "query_4_4 = f'''select\n",
        "                  count(*) as \"Количество вакансий\",\n",
        "                  schedule,\n",
        "                  employment\t\n",
        "                from\n",
        "                  public.vacancies\n",
        "                group by 2, 3  \n",
        "                order by count(*) desc\n",
        "            '''"
      ]
    },
    {
      "cell_type": "code",
      "execution_count": 20,
      "id": "lGUVqavdo4JQ",
      "metadata": {
        "id": "lGUVqavdo4JQ"
      },
      "outputs": [
        {
          "data": {
            "text/html": [
              "<div>\n",
              "<style scoped>\n",
              "    .dataframe tbody tr th:only-of-type {\n",
              "        vertical-align: middle;\n",
              "    }\n",
              "\n",
              "    .dataframe tbody tr th {\n",
              "        vertical-align: top;\n",
              "    }\n",
              "\n",
              "    .dataframe thead th {\n",
              "        text-align: right;\n",
              "    }\n",
              "</style>\n",
              "<table border=\"1\" class=\"dataframe\">\n",
              "  <thead>\n",
              "    <tr style=\"text-align: right;\">\n",
              "      <th></th>\n",
              "      <th>Количество вакансий</th>\n",
              "      <th>schedule</th>\n",
              "      <th>employment</th>\n",
              "    </tr>\n",
              "  </thead>\n",
              "  <tbody>\n",
              "    <tr>\n",
              "      <th>0</th>\n",
              "      <td>35367</td>\n",
              "      <td>Полный день</td>\n",
              "      <td>Полная занятость</td>\n",
              "    </tr>\n",
              "    <tr>\n",
              "      <th>1</th>\n",
              "      <td>7802</td>\n",
              "      <td>Удаленная работа</td>\n",
              "      <td>Полная занятость</td>\n",
              "    </tr>\n",
              "    <tr>\n",
              "      <th>2</th>\n",
              "      <td>1593</td>\n",
              "      <td>Гибкий график</td>\n",
              "      <td>Полная занятость</td>\n",
              "    </tr>\n",
              "    <tr>\n",
              "      <th>3</th>\n",
              "      <td>1312</td>\n",
              "      <td>Удаленная работа</td>\n",
              "      <td>Частичная занятость</td>\n",
              "    </tr>\n",
              "    <tr>\n",
              "      <th>4</th>\n",
              "      <td>940</td>\n",
              "      <td>Сменный график</td>\n",
              "      <td>Полная занятость</td>\n",
              "    </tr>\n",
              "    <tr>\n",
              "      <th>5</th>\n",
              "      <td>569</td>\n",
              "      <td>Полный день</td>\n",
              "      <td>Стажировка</td>\n",
              "    </tr>\n",
              "    <tr>\n",
              "      <th>6</th>\n",
              "      <td>367</td>\n",
              "      <td>Вахтовый метод</td>\n",
              "      <td>Полная занятость</td>\n",
              "    </tr>\n",
              "    <tr>\n",
              "      <th>7</th>\n",
              "      <td>347</td>\n",
              "      <td>Полный день</td>\n",
              "      <td>Частичная занятость</td>\n",
              "    </tr>\n",
              "    <tr>\n",
              "      <th>8</th>\n",
              "      <td>312</td>\n",
              "      <td>Гибкий график</td>\n",
              "      <td>Частичная занятость</td>\n",
              "    </tr>\n",
              "    <tr>\n",
              "      <th>9</th>\n",
              "      <td>141</td>\n",
              "      <td>Полный день</td>\n",
              "      <td>Проектная работа</td>\n",
              "    </tr>\n",
              "    <tr>\n",
              "      <th>10</th>\n",
              "      <td>133</td>\n",
              "      <td>Удаленная работа</td>\n",
              "      <td>Проектная работа</td>\n",
              "    </tr>\n",
              "    <tr>\n",
              "      <th>11</th>\n",
              "      <td>116</td>\n",
              "      <td>Гибкий график</td>\n",
              "      <td>Стажировка</td>\n",
              "    </tr>\n",
              "    <tr>\n",
              "      <th>12</th>\n",
              "      <td>101</td>\n",
              "      <td>Сменный график</td>\n",
              "      <td>Частичная занятость</td>\n",
              "    </tr>\n",
              "    <tr>\n",
              "      <th>13</th>\n",
              "      <td>64</td>\n",
              "      <td>Удаленная работа</td>\n",
              "      <td>Стажировка</td>\n",
              "    </tr>\n",
              "    <tr>\n",
              "      <th>14</th>\n",
              "      <td>18</td>\n",
              "      <td>Гибкий график</td>\n",
              "      <td>Проектная работа</td>\n",
              "    </tr>\n",
              "    <tr>\n",
              "      <th>15</th>\n",
              "      <td>12</td>\n",
              "      <td>Сменный график</td>\n",
              "      <td>Стажировка</td>\n",
              "    </tr>\n",
              "    <tr>\n",
              "      <th>16</th>\n",
              "      <td>2</td>\n",
              "      <td>Вахтовый метод</td>\n",
              "      <td>Проектная работа</td>\n",
              "    </tr>\n",
              "    <tr>\n",
              "      <th>17</th>\n",
              "      <td>1</td>\n",
              "      <td>Сменный график</td>\n",
              "      <td>Проектная работа</td>\n",
              "    </tr>\n",
              "  </tbody>\n",
              "</table>\n",
              "</div>"
            ],
            "text/plain": [
              "    Количество вакансий          schedule           employment\n",
              "0                 35367       Полный день     Полная занятость\n",
              "1                  7802  Удаленная работа     Полная занятость\n",
              "2                  1593     Гибкий график     Полная занятость\n",
              "3                  1312  Удаленная работа  Частичная занятость\n",
              "4                   940    Сменный график     Полная занятость\n",
              "5                   569       Полный день           Стажировка\n",
              "6                   367    Вахтовый метод     Полная занятость\n",
              "7                   347       Полный день  Частичная занятость\n",
              "8                   312     Гибкий график  Частичная занятость\n",
              "9                   141       Полный день     Проектная работа\n",
              "10                  133  Удаленная работа     Проектная работа\n",
              "11                  116     Гибкий график           Стажировка\n",
              "12                  101    Сменный график  Частичная занятость\n",
              "13                   64  Удаленная работа           Стажировка\n",
              "14                   18     Гибкий график     Проектная работа\n",
              "15                   12    Сменный график           Стажировка\n",
              "16                    2    Вахтовый метод     Проектная работа\n",
              "17                    1    Сменный график     Проектная работа"
            ]
          },
          "execution_count": 20,
          "metadata": {},
          "output_type": "execute_result"
        }
      ],
      "source": [
        "# результат запроса\n",
        "df_4_4 = pd.read_sql_query(query_4_4, connection)\n",
        "df_4_4"
      ]
    },
    {
      "cell_type": "markdown",
      "id": "0136ffee-0ead-4a6b-b608-61d1c753a438",
      "metadata": {
        "id": "0136ffee-0ead-4a6b-b608-61d1c753a438"
      },
      "source": [
        "5. Напишите запрос, выводящий значения поля Требуемый опыт работы (experience) в порядке возрастания количества вакансий, в которых указан данный вариант опыта. "
      ]
    },
    {
      "cell_type": "code",
      "execution_count": 21,
      "id": "5b3a8e79-f7ab-4008-b767-12aea3a205ea",
      "metadata": {
        "id": "5b3a8e79-f7ab-4008-b767-12aea3a205ea"
      },
      "outputs": [],
      "source": [
        "# текст запроса\n",
        "query_4_5 = f'''select\n",
        "                  count(*) as \"Кол-во вакансий\",\n",
        "                  experience\n",
        "                from\n",
        "                  public.vacancies\n",
        "                group by experience\n",
        "                order by count(*)  \n",
        "            '''"
      ]
    },
    {
      "cell_type": "code",
      "execution_count": 22,
      "id": "3Is64Y-hpDpq",
      "metadata": {
        "id": "3Is64Y-hpDpq"
      },
      "outputs": [
        {
          "data": {
            "text/html": [
              "<div>\n",
              "<style scoped>\n",
              "    .dataframe tbody tr th:only-of-type {\n",
              "        vertical-align: middle;\n",
              "    }\n",
              "\n",
              "    .dataframe tbody tr th {\n",
              "        vertical-align: top;\n",
              "    }\n",
              "\n",
              "    .dataframe thead th {\n",
              "        text-align: right;\n",
              "    }\n",
              "</style>\n",
              "<table border=\"1\" class=\"dataframe\">\n",
              "  <thead>\n",
              "    <tr style=\"text-align: right;\">\n",
              "      <th></th>\n",
              "      <th>Кол-во вакансий</th>\n",
              "      <th>experience</th>\n",
              "    </tr>\n",
              "  </thead>\n",
              "  <tbody>\n",
              "    <tr>\n",
              "      <th>0</th>\n",
              "      <td>1337</td>\n",
              "      <td>Более 6 лет</td>\n",
              "    </tr>\n",
              "    <tr>\n",
              "      <th>1</th>\n",
              "      <td>7197</td>\n",
              "      <td>Нет опыта</td>\n",
              "    </tr>\n",
              "    <tr>\n",
              "      <th>2</th>\n",
              "      <td>14511</td>\n",
              "      <td>От 3 до 6 лет</td>\n",
              "    </tr>\n",
              "    <tr>\n",
              "      <th>3</th>\n",
              "      <td>26152</td>\n",
              "      <td>От 1 года до 3 лет</td>\n",
              "    </tr>\n",
              "  </tbody>\n",
              "</table>\n",
              "</div>"
            ],
            "text/plain": [
              "   Кол-во вакансий          experience\n",
              "0             1337         Более 6 лет\n",
              "1             7197           Нет опыта\n",
              "2            14511       От 3 до 6 лет\n",
              "3            26152  От 1 года до 3 лет"
            ]
          },
          "execution_count": 22,
          "metadata": {},
          "output_type": "execute_result"
        }
      ],
      "source": [
        "# результат запроса\n",
        "df_4_5 = pd.read_sql_query(query_4_5, connection)\n",
        "df_4_5"
      ]
    },
    {
      "cell_type": "markdown",
      "id": "oq2b7n1QpIka",
      "metadata": {
        "id": "oq2b7n1QpIka"
      },
      "source": [
        "***"
      ]
    },
    {
      "cell_type": "markdown",
      "id": "5edef603",
      "metadata": {},
      "source": [
        " Деталный анализ вакансий показал:\n",
        "\n",
        "* Москва лидирует по количеству вакансий: Москва имеет значительно больше вакансий, чем другие города, включая Санкт-Петербург, который находится на втором месте.\n",
        "\n",
        "* Много вакансий без указания зарплаты: Более половины всех вакансий не содержат информации о зарплате.\n",
        "\n",
        "* Высокие средние значения зарплатной вилки: Средние значения нижней и верхней границ зарплатной вилки выше среднего по стране, что может указывать на высокие требования к вакансиям или высокий уровень оплаты труда в рассматриваемом сегменте.\n",
        "\n",
        "* Предпочтение полной занятости и удаленной работе: Большинство вакансий предлагают полную занятость и работу на полный рабочий день. Также значительное количество вакансий предлагают удаленную работу.\n",
        "\n",
        "* Популярность вакансий с опытом работы от 1 года до 3 лет: Вакансии, требующие опыта работы от 1 года до 3 лет, самые распространенные, в то время как вакансий, требующих опыта более 6 лет, значительно меньше.\n",
        "\n",
        "\n",
        "Вывод: Рынок труда в рассматриваемом сегменте, вероятно, довольно активен, с высокими ожиданиями по оплате труда и предпочтением полной занятости и удаленной работы. Также есть спрос на квалифицированных специалистов с опытом работы от 1 года до 3 лет."
      ]
    },
    {
      "cell_type": "markdown",
      "id": "7ea20ab6-04a7-40a0-adec-443a0e5a42c3",
      "metadata": {
        "id": "7ea20ab6-04a7-40a0-adec-443a0e5a42c3"
      },
      "source": [
        "# Юнит 5. Анализ работодателей"
      ]
    },
    {
      "cell_type": "markdown",
      "id": "968aed80-74ef-4ffb-b5bf-c65b84e9caea",
      "metadata": {
        "id": "968aed80-74ef-4ffb-b5bf-c65b84e9caea"
      },
      "source": [
        "1. Напишите запрос, который позволит узнать, какие работодатели находятся на первом и пятом месте по количеству вакансий."
      ]
    },
    {
      "cell_type": "code",
      "execution_count": 23,
      "id": "f2d62796-d400-4ec1-a675-88112739a50e",
      "metadata": {
        "id": "f2d62796-d400-4ec1-a675-88112739a50e"
      },
      "outputs": [],
      "source": [
        "# текст запроса\n",
        "query_5_1 = f'''select\n",
        "                  e.name,\n",
        "                  count(*)\n",
        "                from\n",
        "                  public.EMPLOYERS as e\n",
        "                  join public.vacancies as v on v.employer_id = e.id\n",
        "                group by 1\n",
        "                order by 2 desc \n",
        "                limit 5     \n",
        "            '''"
      ]
    },
    {
      "cell_type": "code",
      "execution_count": 24,
      "id": "64tOMkAxqkQk",
      "metadata": {
        "id": "64tOMkAxqkQk"
      },
      "outputs": [
        {
          "data": {
            "text/html": [
              "<div>\n",
              "<style scoped>\n",
              "    .dataframe tbody tr th:only-of-type {\n",
              "        vertical-align: middle;\n",
              "    }\n",
              "\n",
              "    .dataframe tbody tr th {\n",
              "        vertical-align: top;\n",
              "    }\n",
              "\n",
              "    .dataframe thead th {\n",
              "        text-align: right;\n",
              "    }\n",
              "</style>\n",
              "<table border=\"1\" class=\"dataframe\">\n",
              "  <thead>\n",
              "    <tr style=\"text-align: right;\">\n",
              "      <th></th>\n",
              "      <th>name</th>\n",
              "      <th>count</th>\n",
              "    </tr>\n",
              "  </thead>\n",
              "  <tbody>\n",
              "    <tr>\n",
              "      <th>0</th>\n",
              "      <td>Яндекс</td>\n",
              "      <td>1933</td>\n",
              "    </tr>\n",
              "    <tr>\n",
              "      <th>1</th>\n",
              "      <td>Ростелеком</td>\n",
              "      <td>491</td>\n",
              "    </tr>\n",
              "    <tr>\n",
              "      <th>2</th>\n",
              "      <td>Тинькофф</td>\n",
              "      <td>444</td>\n",
              "    </tr>\n",
              "    <tr>\n",
              "      <th>3</th>\n",
              "      <td>СБЕР</td>\n",
              "      <td>428</td>\n",
              "    </tr>\n",
              "    <tr>\n",
              "      <th>4</th>\n",
              "      <td>Газпром нефть</td>\n",
              "      <td>331</td>\n",
              "    </tr>\n",
              "  </tbody>\n",
              "</table>\n",
              "</div>"
            ],
            "text/plain": [
              "            name  count\n",
              "0         Яндекс   1933\n",
              "1     Ростелеком    491\n",
              "2       Тинькофф    444\n",
              "3           СБЕР    428\n",
              "4  Газпром нефть    331"
            ]
          },
          "execution_count": 24,
          "metadata": {},
          "output_type": "execute_result"
        }
      ],
      "source": [
        "# результат запроса\n",
        "df_5_1 = pd.read_sql_query(query_5_1, connection)\n",
        "df_5_1"
      ]
    },
    {
      "cell_type": "markdown",
      "id": "68377cfc-b378-43dc-ab7d-1195abf2c515",
      "metadata": {
        "id": "68377cfc-b378-43dc-ab7d-1195abf2c515"
      },
      "source": [
        "2. Напишите запрос, который для каждого региона выведет количество работодателей и вакансий в нём.\n",
        "Среди регионов, в которых нет вакансий, найдите тот, в котором наибольшее количество работодателей.\n"
      ]
    },
    {
      "cell_type": "code",
      "execution_count": 25,
      "id": "dd7df27a-e3e8-412e-a21a-5d389b71e891",
      "metadata": {
        "id": "dd7df27a-e3e8-412e-a21a-5d389b71e891"
      },
      "outputs": [],
      "source": [
        "# текст запроса\n",
        "query_5_2 = f'''select\n",
        "                  a.name as \"Регион\",\n",
        "                  count(e.name) as \"Работодатели\",\n",
        "                  count(v.id) as \"Вакансии\"\n",
        "                from\n",
        "                  public.areas as a\n",
        "                  left join public.vacancies as v on v.area_id = a.id\n",
        "                  left join public.employers as e on e.area = a.id\n",
        "                where v.id is null    \n",
        "                group by 1\n",
        "                order by 2 desc\n",
        "                limit 1  \n",
        "            '''"
      ]
    },
    {
      "cell_type": "code",
      "execution_count": 26,
      "id": "x1ikWbydrbf6",
      "metadata": {
        "id": "x1ikWbydrbf6"
      },
      "outputs": [
        {
          "data": {
            "text/html": [
              "<div>\n",
              "<style scoped>\n",
              "    .dataframe tbody tr th:only-of-type {\n",
              "        vertical-align: middle;\n",
              "    }\n",
              "\n",
              "    .dataframe tbody tr th {\n",
              "        vertical-align: top;\n",
              "    }\n",
              "\n",
              "    .dataframe thead th {\n",
              "        text-align: right;\n",
              "    }\n",
              "</style>\n",
              "<table border=\"1\" class=\"dataframe\">\n",
              "  <thead>\n",
              "    <tr style=\"text-align: right;\">\n",
              "      <th></th>\n",
              "      <th>Регион</th>\n",
              "      <th>Работодатели</th>\n",
              "      <th>Вакансии</th>\n",
              "    </tr>\n",
              "  </thead>\n",
              "  <tbody>\n",
              "    <tr>\n",
              "      <th>0</th>\n",
              "      <td>Россия</td>\n",
              "      <td>410</td>\n",
              "      <td>0</td>\n",
              "    </tr>\n",
              "  </tbody>\n",
              "</table>\n",
              "</div>"
            ],
            "text/plain": [
              "   Регион  Работодатели  Вакансии\n",
              "0  Россия           410         0"
            ]
          },
          "execution_count": 26,
          "metadata": {},
          "output_type": "execute_result"
        }
      ],
      "source": [
        "# результат запроса\n",
        "df_5_2 = pd.read_sql_query(query_5_2, connection)\n",
        "df_5_2"
      ]
    },
    {
      "cell_type": "markdown",
      "id": "f2fe0acb-ab1a-4e15-9326-2560e22d73c1",
      "metadata": {
        "id": "f2fe0acb-ab1a-4e15-9326-2560e22d73c1"
      },
      "source": [
        "3. Для каждого работодателя посчитайте количество регионов, в которых он публикует свои вакансии. Отсортируйте результат по убыванию количества.\n"
      ]
    },
    {
      "cell_type": "code",
      "execution_count": 27,
      "id": "6271f8ad-bd2e-4196-ae4a-5b39c4c1010e",
      "metadata": {
        "id": "6271f8ad-bd2e-4196-ae4a-5b39c4c1010e"
      },
      "outputs": [],
      "source": [
        "# текст запроса\n",
        "query_5_3 = f'''select\n",
        "                  count(distinct v.area_id) as \"Кол-во регионов\",\n",
        "                  e.name as \"Работодатель\"\n",
        "                from\n",
        "                  public.employers as e\n",
        "                  join public.vacancies as v on v.employer_id = e.id\n",
        "                group by 2\n",
        "                order by 1 desc    \n",
        "            '''"
      ]
    },
    {
      "cell_type": "code",
      "execution_count": 28,
      "id": "1EIvX3HasH4F",
      "metadata": {
        "id": "1EIvX3HasH4F"
      },
      "outputs": [
        {
          "data": {
            "text/html": [
              "<div>\n",
              "<style scoped>\n",
              "    .dataframe tbody tr th:only-of-type {\n",
              "        vertical-align: middle;\n",
              "    }\n",
              "\n",
              "    .dataframe tbody tr th {\n",
              "        vertical-align: top;\n",
              "    }\n",
              "\n",
              "    .dataframe thead th {\n",
              "        text-align: right;\n",
              "    }\n",
              "</style>\n",
              "<table border=\"1\" class=\"dataframe\">\n",
              "  <thead>\n",
              "    <tr style=\"text-align: right;\">\n",
              "      <th></th>\n",
              "      <th>Кол-во регионов</th>\n",
              "      <th>Работодатель</th>\n",
              "    </tr>\n",
              "  </thead>\n",
              "  <tbody>\n",
              "    <tr>\n",
              "      <th>0</th>\n",
              "      <td>181</td>\n",
              "      <td>Яндекс</td>\n",
              "    </tr>\n",
              "    <tr>\n",
              "      <th>1</th>\n",
              "      <td>152</td>\n",
              "      <td>Ростелеком</td>\n",
              "    </tr>\n",
              "    <tr>\n",
              "      <th>2</th>\n",
              "      <td>116</td>\n",
              "      <td>Спецремонт</td>\n",
              "    </tr>\n",
              "    <tr>\n",
              "      <th>3</th>\n",
              "      <td>88</td>\n",
              "      <td>Поляков Денис Иванович</td>\n",
              "    </tr>\n",
              "    <tr>\n",
              "      <th>4</th>\n",
              "      <td>71</td>\n",
              "      <td>ООО ЕФИН</td>\n",
              "    </tr>\n",
              "    <tr>\n",
              "      <th>...</th>\n",
              "      <td>...</td>\n",
              "      <td>...</td>\n",
              "    </tr>\n",
              "    <tr>\n",
              "      <th>14761</th>\n",
              "      <td>1</td>\n",
              "      <td>UniSol</td>\n",
              "    </tr>\n",
              "    <tr>\n",
              "      <th>14762</th>\n",
              "      <td>1</td>\n",
              "      <td>UNISTORY LLC</td>\n",
              "    </tr>\n",
              "    <tr>\n",
              "      <th>14763</th>\n",
              "      <td>1</td>\n",
              "      <td>UNIT6</td>\n",
              "    </tr>\n",
              "    <tr>\n",
              "      <th>14764</th>\n",
              "      <td>1</td>\n",
              "      <td>United Distribution</td>\n",
              "    </tr>\n",
              "    <tr>\n",
              "      <th>14765</th>\n",
              "      <td>1</td>\n",
              "      <td>UNITEL LLC</td>\n",
              "    </tr>\n",
              "  </tbody>\n",
              "</table>\n",
              "<p>14766 rows × 2 columns</p>\n",
              "</div>"
            ],
            "text/plain": [
              "       Кол-во регионов            Работодатель\n",
              "0                  181                  Яндекс\n",
              "1                  152              Ростелеком\n",
              "2                  116              Спецремонт\n",
              "3                   88  Поляков Денис Иванович\n",
              "4                   71               ООО ЕФИН \n",
              "...                ...                     ...\n",
              "14761                1                  UniSol\n",
              "14762                1            UNISTORY LLC\n",
              "14763                1                   UNIT6\n",
              "14764                1     United Distribution\n",
              "14765                1              UNITEL LLC\n",
              "\n",
              "[14766 rows x 2 columns]"
            ]
          },
          "execution_count": 28,
          "metadata": {},
          "output_type": "execute_result"
        }
      ],
      "source": [
        "# результат запроса\n",
        "df_5_3 = pd.read_sql_query(query_5_3, connection)\n",
        "df_5_3"
      ]
    },
    {
      "cell_type": "markdown",
      "id": "eab2206d-d95b-468b-8e5f-34381abf0ce7",
      "metadata": {
        "id": "eab2206d-d95b-468b-8e5f-34381abf0ce7"
      },
      "source": [
        "4. Напишите запрос для подсчёта количества работодателей, у которых не указана сфера деятельности. "
      ]
    },
    {
      "cell_type": "code",
      "execution_count": 29,
      "id": "80defb23-bfb1-4a18-8be6-bf36aa7165d5",
      "metadata": {
        "id": "80defb23-bfb1-4a18-8be6-bf36aa7165d5"
      },
      "outputs": [],
      "source": [
        "# текст запроса\n",
        "query_5_4 = f'''select count(*) as \"Кол-во работодателей, у которых не указана сфера деятельности\"\n",
        "                from\n",
        "                  public.employers_industries as ei\n",
        "                  right join public.employers as e on e.id = ei.employer_id\n",
        "                where ei.employer_id is null  \n",
        "            '''"
      ]
    },
    {
      "cell_type": "code",
      "execution_count": 30,
      "id": "Dp_yCx6ysQSu",
      "metadata": {
        "id": "Dp_yCx6ysQSu"
      },
      "outputs": [
        {
          "data": {
            "text/html": [
              "<div>\n",
              "<style scoped>\n",
              "    .dataframe tbody tr th:only-of-type {\n",
              "        vertical-align: middle;\n",
              "    }\n",
              "\n",
              "    .dataframe tbody tr th {\n",
              "        vertical-align: top;\n",
              "    }\n",
              "\n",
              "    .dataframe thead th {\n",
              "        text-align: right;\n",
              "    }\n",
              "</style>\n",
              "<table border=\"1\" class=\"dataframe\">\n",
              "  <thead>\n",
              "    <tr style=\"text-align: right;\">\n",
              "      <th></th>\n",
              "      <th>Кол-во работодателей, у которых не</th>\n",
              "    </tr>\n",
              "  </thead>\n",
              "  <tbody>\n",
              "    <tr>\n",
              "      <th>0</th>\n",
              "      <td>8419</td>\n",
              "    </tr>\n",
              "  </tbody>\n",
              "</table>\n",
              "</div>"
            ],
            "text/plain": [
              "   Кол-во работодателей, у которых не \n",
              "0                                 8419"
            ]
          },
          "execution_count": 30,
          "metadata": {},
          "output_type": "execute_result"
        }
      ],
      "source": [
        "# результат запроса\n",
        "df_5_4 = pd.read_sql_query(query_5_4, connection)\n",
        "df_5_4"
      ]
    },
    {
      "cell_type": "markdown",
      "id": "0112af31-f6b0-4e3b-82ab-71296e752e5e",
      "metadata": {
        "id": "0112af31-f6b0-4e3b-82ab-71296e752e5e"
      },
      "source": [
        "5. Напишите запрос, чтобы узнать название компании, находящейся на третьем месте в алфавитном списке (по названию) компаний, у которых указано четыре сферы деятельности. "
      ]
    },
    {
      "cell_type": "code",
      "execution_count": 31,
      "id": "973b0cfc-a972-470a-8b4a-68744ef220c4",
      "metadata": {
        "id": "973b0cfc-a972-470a-8b4a-68744ef220c4"
      },
      "outputs": [],
      "source": [
        "# текст запроса\n",
        "query_5_5 = f'''select\n",
        "                  e.name as \"Название\",\n",
        "                  count(distinct industry_id) as \"Кол-во сфер деятельности\"\n",
        "                from\n",
        "                  public.employers as e\n",
        "                  left join public.employers_industries as ei on ei.employer_id = e.id\n",
        "                group by e.name\n",
        "                having\n",
        "                  count(distinct industry_id) = 4    \n",
        "                order by 1\n",
        "                offset 2 limit 1 \n",
        "            '''"
      ]
    },
    {
      "cell_type": "code",
      "execution_count": 32,
      "id": "xsPtpp8EsaED",
      "metadata": {
        "id": "xsPtpp8EsaED"
      },
      "outputs": [
        {
          "data": {
            "text/html": [
              "<div>\n",
              "<style scoped>\n",
              "    .dataframe tbody tr th:only-of-type {\n",
              "        vertical-align: middle;\n",
              "    }\n",
              "\n",
              "    .dataframe tbody tr th {\n",
              "        vertical-align: top;\n",
              "    }\n",
              "\n",
              "    .dataframe thead th {\n",
              "        text-align: right;\n",
              "    }\n",
              "</style>\n",
              "<table border=\"1\" class=\"dataframe\">\n",
              "  <thead>\n",
              "    <tr style=\"text-align: right;\">\n",
              "      <th></th>\n",
              "      <th>Название</th>\n",
              "      <th>Кол-во сфер деятельности</th>\n",
              "    </tr>\n",
              "  </thead>\n",
              "  <tbody>\n",
              "    <tr>\n",
              "      <th>0</th>\n",
              "      <td>2ГИС</td>\n",
              "      <td>4</td>\n",
              "    </tr>\n",
              "  </tbody>\n",
              "</table>\n",
              "</div>"
            ],
            "text/plain": [
              "  Название  Кол-во сфер деятельности\n",
              "0     2ГИС                         4"
            ]
          },
          "execution_count": 32,
          "metadata": {},
          "output_type": "execute_result"
        }
      ],
      "source": [
        "# результат запроса\n",
        "df_5_5 = pd.read_sql_query(query_5_5, connection)\n",
        "df_5_5"
      ]
    },
    {
      "cell_type": "markdown",
      "id": "3bfcfdaf-755d-4d2b-8ed8-326201dc07ab",
      "metadata": {
        "id": "3bfcfdaf-755d-4d2b-8ed8-326201dc07ab"
      },
      "source": [
        "6. С помощью запроса выясните, у какого количества работодателей в качестве сферы деятельности указана Разработка программного обеспечения.\n"
      ]
    },
    {
      "cell_type": "code",
      "execution_count": 33,
      "id": "ad3f270f-2991-47eb-929b-e8f88a55b0d1",
      "metadata": {
        "id": "ad3f270f-2991-47eb-929b-e8f88a55b0d1"
      },
      "outputs": [],
      "source": [
        "# текст запроса\n",
        "query_5_6 = f'''select\n",
        "                 count(*) as \"Количество\"\n",
        "                from\n",
        "                  public.employers_industries as ei\n",
        "                  join public.employers as e on e.id = ei.employer_id\n",
        "                  join public.industries as i on i.id = ei.industry_id\n",
        "                where\n",
        "                  i.name = 'Разработка программного обеспечения'  \n",
        "            '''"
      ]
    },
    {
      "cell_type": "code",
      "execution_count": 34,
      "id": "H72qxWM0shPR",
      "metadata": {
        "id": "H72qxWM0shPR"
      },
      "outputs": [
        {
          "data": {
            "text/html": [
              "<div>\n",
              "<style scoped>\n",
              "    .dataframe tbody tr th:only-of-type {\n",
              "        vertical-align: middle;\n",
              "    }\n",
              "\n",
              "    .dataframe tbody tr th {\n",
              "        vertical-align: top;\n",
              "    }\n",
              "\n",
              "    .dataframe thead th {\n",
              "        text-align: right;\n",
              "    }\n",
              "</style>\n",
              "<table border=\"1\" class=\"dataframe\">\n",
              "  <thead>\n",
              "    <tr style=\"text-align: right;\">\n",
              "      <th></th>\n",
              "      <th>Количество</th>\n",
              "    </tr>\n",
              "  </thead>\n",
              "  <tbody>\n",
              "    <tr>\n",
              "      <th>0</th>\n",
              "      <td>3553</td>\n",
              "    </tr>\n",
              "  </tbody>\n",
              "</table>\n",
              "</div>"
            ],
            "text/plain": [
              "   Количество\n",
              "0        3553"
            ]
          },
          "execution_count": 34,
          "metadata": {},
          "output_type": "execute_result"
        }
      ],
      "source": [
        "# результат запроса\n",
        "df_5_6 = pd.read_sql_query(query_5_6, connection)\n",
        "df_5_6"
      ]
    },
    {
      "cell_type": "markdown",
      "id": "7b02bb86-0546-40fb-94a4-242f050a5c57",
      "metadata": {
        "id": "7b02bb86-0546-40fb-94a4-242f050a5c57"
      },
      "source": [
        "7. Для компании «Яндекс» выведите список регионов-миллионников, в которых представлены вакансии компании, вместе с количеством вакансий в этих регионах. Также добавьте строку Total с общим количеством вакансий компании. Результат отсортируйте по возрастанию количества.\n",
        "\n",
        "Список городов-милионников надо взять [отсюда](https://ru.wikipedia.org/wiki/%D0%93%D0%BE%D1%80%D0%BE%D0%B4%D0%B0-%D0%BC%D0%B8%D0%BB%D0%BB%D0%B8%D0%BE%D0%BD%D0%B5%D1%80%D1%8B_%D0%A0%D0%BE%D1%81%D1%81%D0%B8%D0%B8). \n",
        "\n",
        "Если возникнут трудности с этим задание посмотрите материалы модуля  PYTHON-17. Как получать данные из веб-источников и API. "
      ]
    },
    {
      "cell_type": "code",
      "execution_count": 35,
      "id": "ZdfrL6gIs1Pn",
      "metadata": {
        "id": "ZdfrL6gIs1Pn"
      },
      "outputs": [
        {
          "data": {
            "text/plain": [
              "['Москва',\n",
              " 'Санкт-Петербург',\n",
              " 'Новосибирск',\n",
              " 'Екатеринбург',\n",
              " 'Казань',\n",
              " 'Нижний Новгород',\n",
              " 'Красноярск',\n",
              " 'Челябинск',\n",
              " 'Самара',\n",
              " 'Уфа',\n",
              " 'Ростов-на-Дону',\n",
              " 'Краснодар',\n",
              " 'Омск',\n",
              " 'Воронеж',\n",
              " 'Пермь',\n",
              " 'Волгоград']"
            ]
          },
          "metadata": {},
          "output_type": "display_data"
        }
      ],
      "source": [
        "# код для получения списка городов-милионников\n",
        "import requests\n",
        "from bs4 import BeautifulSoup\n",
        "\n",
        "url = 'https://ru.wikipedia.org/wiki/Города-миллионеры_России'\n",
        "# Выполняем GET-запрос, содержимое ответа присваивается переменной response\n",
        "response = requests.get(url, headers={'User-Agent': 'Mozilla/5.0'}).text  \n",
        "# Создаём объект BeautifulSoup, указывая html-парсер\n",
        "page = BeautifulSoup(response, 'html.parser')\n",
        "# Используем метод select(), в аргументы передаем CSS-селектор, который ищет все элементы <a> во второй таблице страницы  \n",
        "hyperlinks = page.select('div table:nth-of-type(2) tbody tr td > a')\n",
        "# Извлекаем текст и создаем список городов\n",
        "million_cities = [hyperlink.text for hyperlink in hyperlinks]\n",
        "display(million_cities)"
      ]
    },
    {
      "cell_type": "code",
      "execution_count": 36,
      "id": "5a0e32a4-e68a-4365-8a39-2fe24c542c36",
      "metadata": {
        "id": "5a0e32a4-e68a-4365-8a39-2fe24c542c36"
      },
      "outputs": [],
      "source": [
        "# текст запроса\n",
        "# Преобразовываем список городов в строку, чтобы использовать в запросе\n",
        "million_cities_str = \"','\".join(million_cities)\n",
        "\n",
        "query_5_7 = f'''select\n",
        "                  a.name as \"Город\",\n",
        "                  count(distinct v.id) as \"Кол-во вакансий Яндекс\"\n",
        "                from\n",
        "                  public.vacancies as v\n",
        "                  join public.areas as a on a.id = v.area_id\n",
        "                  join public.employers as e on e.id = employer_id\n",
        "                where\n",
        "                  e.name = 'Яндекс'\n",
        "                   and a.name in ('{million_cities_str}')\n",
        "                group by\n",
        "                  a.name\n",
        "                \n",
        "                \n",
        "                UNION\n",
        "                \n",
        "                select\n",
        "                  'Total' as \"Город\",\n",
        "                  count(*)\n",
        "                from\n",
        "                  public.vacancies as v\n",
        "                  join public.areas as a on a.id = v.area_id\n",
        "                  join public.employers as e on e.id = employer_id\n",
        "                where\n",
        "                  e.name = 'Яндекс'\n",
        "                  and a.name in ('{million_cities_str}')\n",
        "                order by 2             \n",
        "            '''"
      ]
    },
    {
      "cell_type": "code",
      "execution_count": 37,
      "id": "ttPhiO1rsvPq",
      "metadata": {
        "id": "ttPhiO1rsvPq"
      },
      "outputs": [
        {
          "data": {
            "text/html": [
              "<div>\n",
              "<style scoped>\n",
              "    .dataframe tbody tr th:only-of-type {\n",
              "        vertical-align: middle;\n",
              "    }\n",
              "\n",
              "    .dataframe tbody tr th {\n",
              "        vertical-align: top;\n",
              "    }\n",
              "\n",
              "    .dataframe thead th {\n",
              "        text-align: right;\n",
              "    }\n",
              "</style>\n",
              "<table border=\"1\" class=\"dataframe\">\n",
              "  <thead>\n",
              "    <tr style=\"text-align: right;\">\n",
              "      <th></th>\n",
              "      <th>Город</th>\n",
              "      <th>Кол-во вакансий Яндекс</th>\n",
              "    </tr>\n",
              "  </thead>\n",
              "  <tbody>\n",
              "    <tr>\n",
              "      <th>0</th>\n",
              "      <td>Омск</td>\n",
              "      <td>21</td>\n",
              "    </tr>\n",
              "    <tr>\n",
              "      <th>1</th>\n",
              "      <td>Челябинск</td>\n",
              "      <td>22</td>\n",
              "    </tr>\n",
              "    <tr>\n",
              "      <th>2</th>\n",
              "      <td>Красноярск</td>\n",
              "      <td>23</td>\n",
              "    </tr>\n",
              "    <tr>\n",
              "      <th>3</th>\n",
              "      <td>Волгоград</td>\n",
              "      <td>24</td>\n",
              "    </tr>\n",
              "    <tr>\n",
              "      <th>4</th>\n",
              "      <td>Пермь</td>\n",
              "      <td>25</td>\n",
              "    </tr>\n",
              "    <tr>\n",
              "      <th>5</th>\n",
              "      <td>Казань</td>\n",
              "      <td>25</td>\n",
              "    </tr>\n",
              "    <tr>\n",
              "      <th>6</th>\n",
              "      <td>Ростов-на-Дону</td>\n",
              "      <td>25</td>\n",
              "    </tr>\n",
              "    <tr>\n",
              "      <th>7</th>\n",
              "      <td>Уфа</td>\n",
              "      <td>26</td>\n",
              "    </tr>\n",
              "    <tr>\n",
              "      <th>8</th>\n",
              "      <td>Самара</td>\n",
              "      <td>26</td>\n",
              "    </tr>\n",
              "    <tr>\n",
              "      <th>9</th>\n",
              "      <td>Краснодар</td>\n",
              "      <td>30</td>\n",
              "    </tr>\n",
              "    <tr>\n",
              "      <th>10</th>\n",
              "      <td>Воронеж</td>\n",
              "      <td>32</td>\n",
              "    </tr>\n",
              "    <tr>\n",
              "      <th>11</th>\n",
              "      <td>Новосибирск</td>\n",
              "      <td>35</td>\n",
              "    </tr>\n",
              "    <tr>\n",
              "      <th>12</th>\n",
              "      <td>Нижний Новгород</td>\n",
              "      <td>36</td>\n",
              "    </tr>\n",
              "    <tr>\n",
              "      <th>13</th>\n",
              "      <td>Екатеринбург</td>\n",
              "      <td>39</td>\n",
              "    </tr>\n",
              "    <tr>\n",
              "      <th>14</th>\n",
              "      <td>Санкт-Петербург</td>\n",
              "      <td>42</td>\n",
              "    </tr>\n",
              "    <tr>\n",
              "      <th>15</th>\n",
              "      <td>Москва</td>\n",
              "      <td>54</td>\n",
              "    </tr>\n",
              "    <tr>\n",
              "      <th>16</th>\n",
              "      <td>Total</td>\n",
              "      <td>485</td>\n",
              "    </tr>\n",
              "  </tbody>\n",
              "</table>\n",
              "</div>"
            ],
            "text/plain": [
              "              Город  Кол-во вакансий Яндекс\n",
              "0              Омск                      21\n",
              "1         Челябинск                      22\n",
              "2        Красноярск                      23\n",
              "3         Волгоград                      24\n",
              "4             Пермь                      25\n",
              "5            Казань                      25\n",
              "6    Ростов-на-Дону                      25\n",
              "7               Уфа                      26\n",
              "8            Самара                      26\n",
              "9         Краснодар                      30\n",
              "10          Воронеж                      32\n",
              "11      Новосибирск                      35\n",
              "12  Нижний Новгород                      36\n",
              "13     Екатеринбург                      39\n",
              "14  Санкт-Петербург                      42\n",
              "15           Москва                      54\n",
              "16            Total                     485"
            ]
          },
          "execution_count": 37,
          "metadata": {},
          "output_type": "execute_result"
        }
      ],
      "source": [
        "# результат запроса\n",
        "df_5_7 = pd.read_sql_query(query_5_7, connection)\n",
        "df_5_7"
      ]
    },
    {
      "cell_type": "markdown",
      "id": "04966e40-3bc3-4dc8-9ba2-e80580ce3abc",
      "metadata": {
        "id": "04966e40-3bc3-4dc8-9ba2-e80580ce3abc"
      },
      "source": [
        "***"
      ]
    },
    {
      "cell_type": "markdown",
      "id": "bca07098",
      "metadata": {},
      "source": [
        "Проанализоровав работодателей, мы узнали:\n",
        "* Компания \"Яндекс\" является лидером по количеству размещенных вакансий на сайте hh.ru, их число составляет 1933, что значительно превышает количество вакансий у других работодателей.\n",
        "* \"Яндекс\" также представлен в наибольшем количестве населенных пунктов - 181, что говорит о широком географическом охвате деятельности компании.\n",
        "* Значительная часть работодателей (8419 из 23501) не указывает сферу своей деятельности, что может затруднять поиск работы для соискателей.\n",
        "* 3553 компании указали сферу деятельности как разработку программного обеспечения, что свидетельствует о высоком спросе на специалистов в этой области.\n",
        "* \"Яндекс\" также активен на рынке городов-миллионеров, предлагая 485 вакансий, преимущественно в Москве (54 вакансии) и Санкт-Петербурге (42 вакансии), что подчеркивает их интерес к крупным городам с развитой экономикой и кадровым потенциалом."
      ]
    },
    {
      "cell_type": "markdown",
      "id": "b1ef156a-efcb-49ce-bb23-90763e7f35b2",
      "metadata": {
        "id": "b1ef156a-efcb-49ce-bb23-90763e7f35b2",
        "tags": []
      },
      "source": [
        "# Юнит 6. Предметный анализ"
      ]
    },
    {
      "cell_type": "markdown",
      "id": "b9cd50a0-992d-4988-8463-2b2b1c4629b4",
      "metadata": {
        "id": "b9cd50a0-992d-4988-8463-2b2b1c4629b4"
      },
      "source": [
        "1. Сколько вакансий имеет отношение к данным?\n",
        "\n",
        "Считаем, что вакансия имеет отношение к данным, если в её названии содержатся слова 'data' или 'данн'.\n",
        "\n",
        "*Подсказка: Обратите внимание, что названия вакансий могут быть написаны в любом регистре.* \n"
      ]
    },
    {
      "cell_type": "code",
      "execution_count": 38,
      "id": "54ab0e50-c0f1-47cc-a54b-bc5c8bc363f9",
      "metadata": {
        "id": "54ab0e50-c0f1-47cc-a54b-bc5c8bc363f9"
      },
      "outputs": [],
      "source": [
        "# текст запроса\n",
        "query_6_1 = f'''select\n",
        "                  count(*)\n",
        "                from\n",
        "                  public.vacancies as v\n",
        "                where\n",
        "                  lower(v.name) like '%data%'\n",
        "                  or lower(v.name) like '%данн%'     \n",
        "            '''"
      ]
    },
    {
      "cell_type": "code",
      "execution_count": 39,
      "id": "9F1meAqsuUjd",
      "metadata": {
        "id": "9F1meAqsuUjd"
      },
      "outputs": [
        {
          "name": "stdout",
          "output_type": "stream",
          "text": [
            "1771 вакансий имеют отношение к данным.\n"
          ]
        }
      ],
      "source": [
        "# результат запроса\n",
        "df_6_1 = pd.read_sql_query(query_6_1, connection)\n",
        "print(f'{df_6_1.iloc[0,0]} вакансий имеют отношение к данным.')"
      ]
    },
    {
      "cell_type": "markdown",
      "id": "4dea20cb-a36b-474a-a0b9-e08e8e3857a5",
      "metadata": {
        "id": "4dea20cb-a36b-474a-a0b9-e08e8e3857a5"
      },
      "source": [
        "2. Сколько есть подходящих вакансий для начинающего дата-сайентиста? \n",
        "Будем считать вакансиями для дата-сайентистов такие, в названии которых есть хотя бы одно из следующих сочетаний:\n",
        "* 'data scientist'\n",
        "* 'data science'\n",
        "* 'исследователь данных'\n",
        "* 'ML' (здесь не нужно брать вакансии по HTML)\n",
        "* 'machine learning'\n",
        "* 'машинн%обучен%'\n",
        "\n",
        "** В следующих заданиях мы продолжим работать с вакансиями по этому условию.*\n",
        "\n",
        "Считаем вакансиями для специалистов уровня Junior следующие:\n",
        "* в названии есть слово 'junior' *или*\n",
        "* требуемый опыт — Нет опыта *или*\n",
        "* тип трудоустройства — Стажировка.\n",
        " "
      ]
    },
    {
      "cell_type": "code",
      "execution_count": 40,
      "id": "9c61b3c0-bb66-46c9-ae1e-81d3f5752b4a",
      "metadata": {
        "id": "9c61b3c0-bb66-46c9-ae1e-81d3f5752b4a"
      },
      "outputs": [],
      "source": [
        "# текст запроса\n",
        "query_6_2 = f'''select\n",
        "                  count(*)\n",
        "                from\n",
        "                  public.vacancies as v\n",
        "                where\n",
        "                  (lower(v.name) like '%data scientist%' or\n",
        "                  lower(v.name) like '%data science%' or\n",
        "                  lower(v.name) like '%исследователь данных%' or\n",
        "                  lower(v.name) like '%machine learning%' or \n",
        "                  lower(v.name) like '%машинн%обучен%%' or\n",
        "                  (v.name like '%ML%' and v.name not like '%HTML%')) and\n",
        "                  (lower(v.name) like '%junior%' or\n",
        "                  v.experience = 'Нет опыта' or\n",
        "                  v.employment = 'Стажировка')\n",
        "                      \n",
        "            '''"
      ]
    },
    {
      "cell_type": "code",
      "execution_count": 41,
      "id": "ZNM-LLYuu1dj",
      "metadata": {
        "id": "ZNM-LLYuu1dj"
      },
      "outputs": [
        {
          "name": "stdout",
          "output_type": "stream",
          "text": [
            "Количество подходящих вакансий для начинающего дата-сайентиста, составляет: 51 шт.\n"
          ]
        }
      ],
      "source": [
        "# результат запроса\n",
        "df_6_2 = pd.read_sql_query(query_6_2, connection)\n",
        "print(f'Количество подходящих вакансий для начинающего дата-сайентиста, составляет: {df_6_2.iloc[0, 0]} шт.')"
      ]
    },
    {
      "cell_type": "markdown",
      "id": "eedceb80-c5ca-480e-b27a-278dfb8b4438",
      "metadata": {
        "id": "eedceb80-c5ca-480e-b27a-278dfb8b4438"
      },
      "source": [
        "3. Сколько есть вакансий для DS, в которых в качестве ключевого навыка указан SQL или postgres?\n",
        "\n",
        "** Критерии для отнесения вакансии к DS указаны в предыдущем задании.*"
      ]
    },
    {
      "cell_type": "code",
      "execution_count": 42,
      "id": "69621713-0cc5-4f1b-a1d7-bb144fa6148c",
      "metadata": {
        "id": "69621713-0cc5-4f1b-a1d7-bb144fa6148c"
      },
      "outputs": [],
      "source": [
        "# текст запроса\n",
        "query_6_3 = f'''select\n",
        "                  count(*)\n",
        "                from\n",
        "                  public.vacancies as v\n",
        "                where\n",
        "                  (lower(v.name) like '%data scientist%' or\n",
        "                  lower(v.name) like '%data science%' or\n",
        "                  lower(v.name) like '%исследователь данных%' or\n",
        "                  lower(v.name) like '%machine learning%' or \n",
        "                  lower(v.name) like '%машинн%обучен%%' or\n",
        "                  (v.name like '%ML%' and v.name not like '%HTML%')) and\n",
        "                  (v.key_skills ilike '%SQL%' or\n",
        "                  v.key_skills ilike '%postgres%')     \n",
        "            '''"
      ]
    },
    {
      "cell_type": "code",
      "execution_count": 43,
      "id": "alA8WEAAvGdf",
      "metadata": {
        "id": "alA8WEAAvGdf"
      },
      "outputs": [
        {
          "name": "stdout",
          "output_type": "stream",
          "text": [
            "Количество вакансий для DS, в которых в качестве ключевого навыка указан SQL или postgres: 201 шт.\n"
          ]
        }
      ],
      "source": [
        "# результат запроса\n",
        "df_6_3 = pd.read_sql_query(query_6_3, connection)\n",
        "print(f'Количество вакансий для DS, в которых в качестве ключевого навыка указан SQL или postgres: {df_6_3.iloc[0, 0]} шт.')"
      ]
    },
    {
      "cell_type": "markdown",
      "id": "1be1e9c6-37cf-4a5f-bfeb-04cab799dc80",
      "metadata": {
        "id": "1be1e9c6-37cf-4a5f-bfeb-04cab799dc80"
      },
      "source": [
        "4. Проверьте, насколько популярен Python в требованиях работодателей к DS.Для этого вычислите количество вакансий, в которых в качестве ключевого навыка указан Python.\n",
        "\n",
        "** Это можно сделать помощью запроса, аналогичного предыдущему.*"
      ]
    },
    {
      "cell_type": "code",
      "execution_count": 44,
      "id": "0036a355-9ccf-4564-8b01-73d8194297e7",
      "metadata": {
        "id": "0036a355-9ccf-4564-8b01-73d8194297e7"
      },
      "outputs": [],
      "source": [
        "# текст запроса\n",
        "query_6_4 = f'''select\n",
        "                  count(*)\n",
        "                from\n",
        "                  public.vacancies as v\n",
        "                where\n",
        "                  (v.name ilike '%data scientist%' or\n",
        "                  v.name ilike '%data science%' or\n",
        "                  v.name ilike '%исследователь данных%' or\n",
        "                  v.name ilike '%machine learning%' or \n",
        "                  v.name ilike '%машинн%обучен%%' or\n",
        "                  (v.name like '%ML%' and v.name not like '%HTML%')) and\n",
        "                  (v.key_skills ilike '%Python%')         \n",
        "            '''"
      ]
    },
    {
      "cell_type": "code",
      "execution_count": 45,
      "id": "1i-5WyucvQ6v",
      "metadata": {
        "id": "1i-5WyucvQ6v"
      },
      "outputs": [
        {
          "name": "stdout",
          "output_type": "stream",
          "text": [
            "Количество вакансий, в которых в качестве ключевого навыка указан Python: 351 шт.\n"
          ]
        }
      ],
      "source": [
        "# результат запроса\n",
        "df_6_4 = pd.read_sql_query(query_6_4, connection)\n",
        "print(f'Количество вакансий, в которых в качестве ключевого навыка указан Python: {df_6_4.iloc[0, 0]} шт.')"
      ]
    },
    {
      "cell_type": "markdown",
      "id": "ec3c8db7-fa21-4a41-a994-1af63742a642",
      "metadata": {
        "id": "ec3c8db7-fa21-4a41-a994-1af63742a642"
      },
      "source": [
        "5. Сколько ключевых навыков в среднем указывают в вакансиях для DS?\n",
        "Ответ округлите до двух знаков после точки-разделителя."
      ]
    },
    {
      "cell_type": "code",
      "execution_count": 46,
      "id": "949132bc-d5b6-4611-8218-0b9a504d74f4",
      "metadata": {
        "id": "949132bc-d5b6-4611-8218-0b9a504d74f4"
      },
      "outputs": [],
      "source": [
        "# текст запроса\n",
        "\n",
        "# В блоке select, считаем среднее количество слов, для этого мы применяем функцию length к столбцу key_skills, получаем\n",
        "# кол-во символов в строке, из этого вычитаем кол-во символов строки, в которой мы заменили, с помощью replace, символы табуляции\n",
        "# на пустые строки, эта разница покажет нам сколько символов табуляции в строке, чтобы корректно посчитать кол-во слов в строке,\n",
        "# прибавляем 1, т.к в конце строки табуляции нет, значит слов на один больше, чем символов табуляции.\n",
        "# К полученному результату применяем функцию avg(вычисляет среднее) и округляем до двух символов после запятой.  \n",
        "query_6_5 = f'''select \n",
        "                  round(avg(length(key_skills) - length(replace(key_skills, '\\t', '')) + 1), 2) as \"Среднее кол-во навыков для DS\"\n",
        "                from\n",
        "                  public.vacancies as v\n",
        "                where\n",
        "                  (v.name ilike '%data scientist%' or\n",
        "                  v.name ilike '%data science%' or\n",
        "                  v.name ilike '%исследователь данных%' or\n",
        "                  v.name ilike '%machine learning%' or \n",
        "                  v.name ilike '%машинн%обучен%%' or\n",
        "                  (v.name like '%ML%' and v.name not like '%HTML%'))       \n",
        "            '''"
      ]
    },
    {
      "cell_type": "code",
      "execution_count": 114,
      "id": "a3V24Tvmviqk",
      "metadata": {
        "id": "a3V24Tvmviqk"
      },
      "outputs": [
        {
          "name": "stdout",
          "output_type": "stream",
          "text": [
            "6.41 ключевых навыков в среднем указывают в вакансиях для DS\n"
          ]
        }
      ],
      "source": [
        "# результат запроса\n",
        "df_6_5 = pd.read_sql_query(query_6_5, connection)\n",
        "print(f'{df_6_5.iloc[0, 0]} ключевых навыков в среднем указывают в вакансиях для DS')"
      ]
    },
    {
      "cell_type": "markdown",
      "id": "1041c17a-ca8f-4543-a0ca-32778914fb00",
      "metadata": {
        "id": "1041c17a-ca8f-4543-a0ca-32778914fb00"
      },
      "source": [
        "6. Напишите запрос, позволяющий вычислить, какую зарплату для DS в **среднем** указывают для каждого типа требуемого опыта (уникальное значение из поля *experience*). \n",
        "\n",
        "При решении задачи примите во внимание следующее:\n",
        "1. Рассматриваем только вакансии, у которых заполнено хотя бы одно из двух полей с зарплатой.\n",
        "2. Если заполнены оба поля с зарплатой, то считаем зарплату по каждой вакансии как сумму двух полей, делённую на 2. Если заполнено только одно из полей, то его и считаем зарплатой по вакансии.\n",
        "3. Если в расчётах участвует null, в результате он тоже даст null (посмотрите, что возвращает запрос select 1 + null). Чтобы избежать этой ситуацию, мы воспользуемся функцией [coalesce](https://postgrespro.ru/docs/postgresql/9.5/functions-conditional#functions-coalesce-nvl-ifnull), которая заменит null на значение, которое мы передадим. Например, посмотрите, что возвращает запрос `select 1 + coalesce(null, 0)`\n",
        "\n",
        "Выясните, на какую зарплату в среднем может рассчитывать дата-сайентист с опытом работы от 3 до 6 лет. Результат округлите до целого числа. "
      ]
    },
    {
      "cell_type": "code",
      "execution_count": 48,
      "id": "6a743d39-5204-48d3-8271-b9f88e68d40e",
      "metadata": {
        "id": "6a743d39-5204-48d3-8271-b9f88e68d40e"
      },
      "outputs": [],
      "source": [
        "# текст запроса\n",
        "# вычисляем среднее значение заработной платы для вакансий, учитывая как минимальную, так и максимальную заработную плату.\n",
        "# Функция coalesce используется для выбора непустого значения из двух аргументов. Затем производится суммирование\n",
        "# минимальной и максимальной заработной платы, деление этой суммы на 2, и округление результата до ближайшего целого числа.\n",
        "# Затем приводим к типу int.\n",
        "query_6_6 = f'''select \n",
        "                  v.experience as \"Опыт работы\",\n",
        "                  round(avg((coalesce(salary_from, salary_to) + coalesce(salary_to, salary_from)) / 2))::int as \"Средняя зарплата DS\"\n",
        "                from\n",
        "                  public.vacancies as v\n",
        "                where\n",
        "                  (v.name ilike '%data scientist%' or\n",
        "                  v.name ilike '%data science%' or\n",
        "                  v.name ilike '%исследователь данных%' or\n",
        "                  v.name ilike '%machine learning%' or \n",
        "                  v.name ilike '%машинн%обучен%%' or\n",
        "                  (v.name like '%ML%' and v.name not like '%HTML%')) and\n",
        "                  (salary_from IS NOT NULL or salary_to IS NOT NULL)\n",
        "                group by \n",
        "                  v.experience         \n",
        "            '''"
      ]
    },
    {
      "cell_type": "code",
      "execution_count": 49,
      "id": "aRIJ0mZEwU1_",
      "metadata": {
        "id": "aRIJ0mZEwU1_"
      },
      "outputs": [
        {
          "data": {
            "text/html": [
              "<div>\n",
              "<style scoped>\n",
              "    .dataframe tbody tr th:only-of-type {\n",
              "        vertical-align: middle;\n",
              "    }\n",
              "\n",
              "    .dataframe tbody tr th {\n",
              "        vertical-align: top;\n",
              "    }\n",
              "\n",
              "    .dataframe thead th {\n",
              "        text-align: right;\n",
              "    }\n",
              "</style>\n",
              "<table border=\"1\" class=\"dataframe\">\n",
              "  <thead>\n",
              "    <tr style=\"text-align: right;\">\n",
              "      <th></th>\n",
              "      <th>Опыт работы</th>\n",
              "      <th>Средняя зарплата DS</th>\n",
              "    </tr>\n",
              "  </thead>\n",
              "  <tbody>\n",
              "    <tr>\n",
              "      <th>0</th>\n",
              "      <td>Нет опыта</td>\n",
              "      <td>74643</td>\n",
              "    </tr>\n",
              "    <tr>\n",
              "      <th>1</th>\n",
              "      <td>От 1 года до 3 лет</td>\n",
              "      <td>139675</td>\n",
              "    </tr>\n",
              "    <tr>\n",
              "      <th>2</th>\n",
              "      <td>От 3 до 6 лет</td>\n",
              "      <td>243115</td>\n",
              "    </tr>\n",
              "  </tbody>\n",
              "</table>\n",
              "</div>"
            ],
            "text/plain": [
              "          Опыт работы  Средняя зарплата DS\n",
              "0           Нет опыта                74643\n",
              "1  От 1 года до 3 лет               139675\n",
              "2       От 3 до 6 лет               243115"
            ]
          },
          "execution_count": 49,
          "metadata": {},
          "output_type": "execute_result"
        }
      ],
      "source": [
        "# результат запроса\n",
        "df_6_6 = pd.read_sql_query(query_6_6, connection)\n",
        "df_6_6"
      ]
    },
    {
      "cell_type": "markdown",
      "id": "6a7892b4-4113-4746-adce-18aa2844f18e",
      "metadata": {
        "id": "6a7892b4-4113-4746-adce-18aa2844f18e"
      },
      "source": [
        "***"
      ]
    },
    {
      "cell_type": "markdown",
      "id": "c5a125a4",
      "metadata": {},
      "source": [
        "Выводы по предметному анализу:\n",
        "* Вакансий, связанных с обработкой данных, немало - 1771 из 49197.\n",
        "* Для начинающего дата-саентиста есть 51 подходящая вакансия.\n",
        "* Для дата-саентистов с упоминанием SQL или PostgreSQL в ключевых навыках доступно 201 вакансия.\n",
        "* Python является одним из самых востребованных навыков для дата-саентистов, упоминается в 351 вакансии.\n",
        "* Среднее количество ключевых навыков в вакансиях для дата-саентистов составляет 6.41.\n",
        "* Средняя зарплата дата-саентиста значительно различается в зависимости от опыта работы: 74643 для начинающих, 139675 для специалистов с опытом от 1 до 3 лет и 243115 для специалистов с опытом от 3 до 6 лет.\n",
        "\n",
        "\n",
        "Таким образом, можно сделать вывод, что область данных востребована на рынке труда, особенно вакансии, требующие опыта работы и специализированных навыков, таких как Python и SQL. Зарплаты в этой области также могут значительно различаться в зависимости от уровня опыта.\n",
        "\n"
      ]
    },
    {
      "cell_type": "markdown",
      "id": "4ce92404",
      "metadata": {},
      "source": [
        "# 7. Дополнительные исследования данных"
      ]
    },
    {
      "cell_type": "markdown",
      "id": "e8750bba",
      "metadata": {},
      "source": [
        "1. Узнаем каких вакансий больше всего.\n",
        "\n",
        "Посмотром на топ-25."
      ]
    },
    {
      "cell_type": "code",
      "execution_count": 100,
      "id": "a8c021f4",
      "metadata": {},
      "outputs": [],
      "source": [
        "# текст запроса\n",
        "query_7_1 = f'''select\n",
        "                  v.name as \"Вакансия\",\n",
        "                  count(*)\n",
        "                from\n",
        "                  public.vacancies as v\n",
        "                group by 1\n",
        "                order by 2 desc\n",
        "                limit 25    \n",
        "            '''"
      ]
    },
    {
      "cell_type": "code",
      "execution_count": 101,
      "id": "67db6c22",
      "metadata": {},
      "outputs": [
        {
          "data": {
            "text/html": [
              "<div>\n",
              "<style scoped>\n",
              "    .dataframe tbody tr th:only-of-type {\n",
              "        vertical-align: middle;\n",
              "    }\n",
              "\n",
              "    .dataframe tbody tr th {\n",
              "        vertical-align: top;\n",
              "    }\n",
              "\n",
              "    .dataframe thead th {\n",
              "        text-align: right;\n",
              "    }\n",
              "</style>\n",
              "<table border=\"1\" class=\"dataframe\">\n",
              "  <thead>\n",
              "    <tr style=\"text-align: right;\">\n",
              "      <th></th>\n",
              "      <th>Вакансия</th>\n",
              "      <th>count</th>\n",
              "    </tr>\n",
              "  </thead>\n",
              "  <tbody>\n",
              "    <tr>\n",
              "      <th>0</th>\n",
              "      <td>Системный администратор</td>\n",
              "      <td>1761</td>\n",
              "    </tr>\n",
              "    <tr>\n",
              "      <th>1</th>\n",
              "      <td>Программист 1С</td>\n",
              "      <td>1153</td>\n",
              "    </tr>\n",
              "    <tr>\n",
              "      <th>2</th>\n",
              "      <td>Бизнес-аналитик</td>\n",
              "      <td>488</td>\n",
              "    </tr>\n",
              "    <tr>\n",
              "      <th>3</th>\n",
              "      <td>Специалист технической поддержки</td>\n",
              "      <td>457</td>\n",
              "    </tr>\n",
              "    <tr>\n",
              "      <th>4</th>\n",
              "      <td>Системный аналитик</td>\n",
              "      <td>432</td>\n",
              "    </tr>\n",
              "    <tr>\n",
              "      <th>5</th>\n",
              "      <td>Аналитик</td>\n",
              "      <td>404</td>\n",
              "    </tr>\n",
              "    <tr>\n",
              "      <th>6</th>\n",
              "      <td>Инженер-программист</td>\n",
              "      <td>389</td>\n",
              "    </tr>\n",
              "    <tr>\n",
              "      <th>7</th>\n",
              "      <td>Программист 1C</td>\n",
              "      <td>360</td>\n",
              "    </tr>\n",
              "    <tr>\n",
              "      <th>8</th>\n",
              "      <td>Frontend-разработчик</td>\n",
              "      <td>242</td>\n",
              "    </tr>\n",
              "    <tr>\n",
              "      <th>9</th>\n",
              "      <td>Инженер технической поддержки</td>\n",
              "      <td>230</td>\n",
              "    </tr>\n",
              "    <tr>\n",
              "      <th>10</th>\n",
              "      <td>Программист</td>\n",
              "      <td>224</td>\n",
              "    </tr>\n",
              "    <tr>\n",
              "      <th>11</th>\n",
              "      <td>Руководитель проекта</td>\n",
              "      <td>191</td>\n",
              "    </tr>\n",
              "    <tr>\n",
              "      <th>12</th>\n",
              "      <td>Младший специалист ручного тестирования</td>\n",
              "      <td>169</td>\n",
              "    </tr>\n",
              "    <tr>\n",
              "      <th>13</th>\n",
              "      <td>Специалист службы поддержки в Яндекс Бизнес</td>\n",
              "      <td>168</td>\n",
              "    </tr>\n",
              "    <tr>\n",
              "      <th>14</th>\n",
              "      <td>Менеджер проектов</td>\n",
              "      <td>153</td>\n",
              "    </tr>\n",
              "    <tr>\n",
              "      <th>15</th>\n",
              "      <td>Java-разработчик</td>\n",
              "      <td>150</td>\n",
              "    </tr>\n",
              "    <tr>\n",
              "      <th>16</th>\n",
              "      <td>Специалист по информационной безопасности</td>\n",
              "      <td>148</td>\n",
              "    </tr>\n",
              "    <tr>\n",
              "      <th>17</th>\n",
              "      <td>Специалист службы поддержки Рекламной сети Янд...</td>\n",
              "      <td>139</td>\n",
              "    </tr>\n",
              "    <tr>\n",
              "      <th>18</th>\n",
              "      <td>PHP-разработчик</td>\n",
              "      <td>135</td>\n",
              "    </tr>\n",
              "    <tr>\n",
              "      <th>19</th>\n",
              "      <td>Специалист службы поддержки пользователей</td>\n",
              "      <td>126</td>\n",
              "    </tr>\n",
              "    <tr>\n",
              "      <th>20</th>\n",
              "      <td>Компьютерный мастер</td>\n",
              "      <td>123</td>\n",
              "    </tr>\n",
              "    <tr>\n",
              "      <th>21</th>\n",
              "      <td>Менеджер проекта</td>\n",
              "      <td>120</td>\n",
              "    </tr>\n",
              "    <tr>\n",
              "      <th>22</th>\n",
              "      <td>Технический писатель</td>\n",
              "      <td>111</td>\n",
              "    </tr>\n",
              "    <tr>\n",
              "      <th>23</th>\n",
              "      <td>Маркетолог-аналитик</td>\n",
              "      <td>108</td>\n",
              "    </tr>\n",
              "    <tr>\n",
              "      <th>24</th>\n",
              "      <td>Руководитель проектов</td>\n",
              "      <td>106</td>\n",
              "    </tr>\n",
              "  </tbody>\n",
              "</table>\n",
              "</div>"
            ],
            "text/plain": [
              "                                             Вакансия  count\n",
              "0                             Системный администратор   1761\n",
              "1                                      Программист 1С   1153\n",
              "2                                     Бизнес-аналитик    488\n",
              "3                    Специалист технической поддержки    457\n",
              "4                                  Системный аналитик    432\n",
              "5                                            Аналитик    404\n",
              "6                                 Инженер-программист    389\n",
              "7                                      Программист 1C    360\n",
              "8                                Frontend-разработчик    242\n",
              "9                       Инженер технической поддержки    230\n",
              "10                                        Программист    224\n",
              "11                               Руководитель проекта    191\n",
              "12            Младший специалист ручного тестирования    169\n",
              "13        Специалист службы поддержки в Яндекс Бизнес    168\n",
              "14                                  Менеджер проектов    153\n",
              "15                                   Java-разработчик    150\n",
              "16          Специалист по информационной безопасности    148\n",
              "17  Специалист службы поддержки Рекламной сети Янд...    139\n",
              "18                                    PHP-разработчик    135\n",
              "19          Специалист службы поддержки пользователей    126\n",
              "20                                Компьютерный мастер    123\n",
              "21                                   Менеджер проекта    120\n",
              "22                               Технический писатель    111\n",
              "23                                Маркетолог-аналитик    108\n",
              "24                              Руководитель проектов    106"
            ]
          },
          "execution_count": 101,
          "metadata": {},
          "output_type": "execute_result"
        }
      ],
      "source": [
        "# результат запроса\n",
        "df_7_1 = pd.read_sql_query(query_7_1, connection)\n",
        "df_7_1\n",
        "\n"
      ]
    },
    {
      "cell_type": "code",
      "execution_count": 102,
      "metadata": {},
      "outputs": [
        {
          "data": {
            "image/png": "[encoded data removed]",
            "text/plain": [
              "<Figure size 1000x600 with 1 Axes>"
            ]
          },
          "metadata": {},
          "output_type": "display_data"
        }
      ],
      "source": [
        "plt.figure(figsize=(10, 6))\n",
        "sns.barplot(data=df_7_1, x=\"count\", y=\"Вакансия\", palette=\"plasma\")\n",
        "\n",
        "# Настройка заголовка и меток осей\n",
        "plt.title(\"Распределение количества вакансий по позициям\", fontsize=16)\n",
        "plt.xlabel(\"Количество вакансий\")\n",
        "plt.ylabel(\"Позиция\");"
      ]
    },
    {
      "cell_type": "markdown",
      "id": "ebfa856c",
      "metadata": {},
      "source": [
        "Исходя из данных в этой таблице, можно сделать следующие выводы:\n",
        "\n",
        "* Системный администратор, Программист 1С и Бизнес-аналитик - самые востребованные позиции среди вакансий, представленных на рассматриваемом ресурсе.\n",
        "* Позиции, связанные с информационными технологиями (IT), такие как программирование (Программист, Java-разработчик, PHP-разработчик, Frontend-разработчик), а также техническая поддержка (Специалист технической поддержки, Инженер технической поддержки), имеют немалое количество вакансий.\n",
        "* Специалисты по аналитике (Бизнес-аналитик, Аналитик, Маркетолог-аналитик) также востребованы на рынке труда.\n",
        "* Позиции в сфере управления проектами (Руководитель проекта, Менеджер проекта) имеют некоторое количество вакансий, что указывает на активность в этой области.\n",
        "* Позиция \"Программист 1С\" задублирована, это может быть связано с различными способами написания позиции или разными вариантами объявлений.\n",
        "* Специалисты службы поддержки также имеют немалое количество вакансий, что свидетельствует о значимости этой сферы в современном бизнесе.\n",
        "\n",
        "Эта таблица может помочь и соискателям, и работодателям в понимании текущего состояния рынка труда и ориентации при поиске вакансий или кадров."
      ]
    },
    {
      "cell_type": "markdown",
      "id": "79ca3280",
      "metadata": {},
      "source": [
        "***"
      ]
    },
    {
      "cell_type": "markdown",
      "id": "43930eb6",
      "metadata": {},
      "source": [
        "2. Оценка заработной платы в различных отраслях.\n",
        "\n",
        "Находим топ-9 отраслей по средней заработной плате.\n",
        "\n",
        "Берем только те вакансии, в которых заполнено хотя бы одно поле с заработной платой."
      ]
    },
    {
      "cell_type": "code",
      "execution_count": 95,
      "id": "c5e774cd",
      "metadata": {},
      "outputs": [],
      "source": [
        "# текст запроса\n",
        "# Так как в таблице vacancies нет ключа, чтобы объединить ее с таблицей industries, мы в подзапросе объединяем industries\n",
        "# с employers_industries, а затем полученную таблицу объединяем с vacancies по ключу employer_id\n",
        "query_7_2 = f'''select\n",
        "                  ind.name as \"Индустрия\",\n",
        "                  round(avg((coalesce(v.salary_from, v.salary_to) + coalesce(v.salary_to, v.salary_from)) / 2))::int as \"Средняя зп\"\n",
        "                from \n",
        "                  public.vacancies as v\n",
        "                  join (select *\n",
        "                        from\n",
        "                          public.employers_industries ei\n",
        "                          join public.industries i on i.id=ei.industry_id) as ind on ind.employer_id = v.employer_id\n",
        "                where\n",
        "                  v.salary_from IS NOT NULL or v.salary_to IS NOT NULL\n",
        "                group by 1\n",
        "                order by 2 desc\n",
        "                limit 9   \n",
        "            '''"
      ]
    },
    {
      "cell_type": "code",
      "execution_count": 96,
      "id": "3114c8d3",
      "metadata": {},
      "outputs": [
        {
          "data": {
            "text/html": [
              "<div>\n",
              "<style scoped>\n",
              "    .dataframe tbody tr th:only-of-type {\n",
              "        vertical-align: middle;\n",
              "    }\n",
              "\n",
              "    .dataframe tbody tr th {\n",
              "        vertical-align: top;\n",
              "    }\n",
              "\n",
              "    .dataframe thead th {\n",
              "        text-align: right;\n",
              "    }\n",
              "</style>\n",
              "<table border=\"1\" class=\"dataframe\">\n",
              "  <thead>\n",
              "    <tr style=\"text-align: right;\">\n",
              "      <th></th>\n",
              "      <th>Индустрия</th>\n",
              "      <th>Средняя зп</th>\n",
              "    </tr>\n",
              "  </thead>\n",
              "  <tbody>\n",
              "    <tr>\n",
              "      <th>0</th>\n",
              "      <td>Агрохимия (продвижение, оптовая торговля)</td>\n",
              "      <td>381429</td>\n",
              "    </tr>\n",
              "    <tr>\n",
              "      <th>1</th>\n",
              "      <td>Агрохимия (производство)</td>\n",
              "      <td>339875</td>\n",
              "    </tr>\n",
              "    <tr>\n",
              "      <th>2</th>\n",
              "      <td>Игорный бизнес</td>\n",
              "      <td>191905</td>\n",
              "    </tr>\n",
              "    <tr>\n",
              "      <th>3</th>\n",
              "      <td>Корма для животных (производство)</td>\n",
              "      <td>168300</td>\n",
              "    </tr>\n",
              "    <tr>\n",
              "      <th>4</th>\n",
              "      <td>Зоомагазин</td>\n",
              "      <td>167613</td>\n",
              "    </tr>\n",
              "    <tr>\n",
              "      <th>5</th>\n",
              "      <td>Кадровые агентства</td>\n",
              "      <td>144530</td>\n",
              "    </tr>\n",
              "    <tr>\n",
              "      <th>6</th>\n",
              "      <td>Лакокрасочная продукция, сырье (производство)</td>\n",
              "      <td>142803</td>\n",
              "    </tr>\n",
              "    <tr>\n",
              "      <th>7</th>\n",
              "      <td>Бытовая химия, парфюмерия, косметика  (произво...</td>\n",
              "      <td>130120</td>\n",
              "    </tr>\n",
              "    <tr>\n",
              "      <th>8</th>\n",
              "      <td>Лакокрасочная продукция, сырье (продвижение, о...</td>\n",
              "      <td>128445</td>\n",
              "    </tr>\n",
              "  </tbody>\n",
              "</table>\n",
              "</div>"
            ],
            "text/plain": [
              "                                           Индустрия  Средняя зп\n",
              "0          Агрохимия (продвижение, оптовая торговля)      381429\n",
              "1                           Агрохимия (производство)      339875\n",
              "2                                     Игорный бизнес      191905\n",
              "3                  Корма для животных (производство)      168300\n",
              "4                                         Зоомагазин      167613\n",
              "5                                 Кадровые агентства      144530\n",
              "6      Лакокрасочная продукция, сырье (производство)      142803\n",
              "7  Бытовая химия, парфюмерия, косметика  (произво...      130120\n",
              "8  Лакокрасочная продукция, сырье (продвижение, о...      128445"
            ]
          },
          "execution_count": 96,
          "metadata": {},
          "output_type": "execute_result"
        }
      ],
      "source": [
        "# результат запроса\n",
        "df_7_2 = pd.read_sql_query(query_7_2, connection)\n",
        "df_7_2"
      ]
    },
    {
      "cell_type": "code",
      "execution_count": 97,
      "id": "6aceefa9",
      "metadata": {},
      "outputs": [
        {
          "data": {
            "image/png": "[encoded data removed]",
            "text/plain": [
              "<Figure size 1000x600 with 1 Axes>"
            ]
          },
          "metadata": {},
          "output_type": "display_data"
        }
      ],
      "source": [
        "plt.figure(figsize=(10, 6))\n",
        "sns.barplot(data=df_7_2, x='Средняя зп', y='Индустрия',  palette='viridis')\n",
        "\n",
        "# Настройка заголовка и меток осей\n",
        "plt.xlabel('Средняя ЗП')\n",
        "plt.ylabel('Индустрия')\n",
        "plt.title('Средняя заработная плата по отраслям');"
      ]
    },
    {
      "cell_type": "markdown",
      "id": "adb2a33a",
      "metadata": {},
      "source": [
        "Вывод:\n",
        "Такая высокая средняя заработная плата в данных областях может говорить о том, что эти отрасли нуждаются, в основном, в высококвалифицированных специалистах.\n",
        "\n",
        " "
      ]
    },
    {
      "cell_type": "markdown",
      "id": "0b9c4847",
      "metadata": {},
      "source": [
        "***"
      ]
    },
    {
      "cell_type": "markdown",
      "id": "446d69ff",
      "metadata": {},
      "source": [
        "3. Востребованность удаленной работы.\n",
        "\n",
        "Исследование количества вакансий, предлагаемых в удаленном формате, и их распределение по отраслям и регионам.\n",
        "\n",
        "Возьмем топ-10 по количеству вакансий.\n"
      ]
    },
    {
      "cell_type": "code",
      "execution_count": 105,
      "id": "6d473c6a",
      "metadata": {},
      "outputs": [],
      "source": [
        "# текст запроса\n",
        "query_7_3 = f'''select \n",
        "                  count(*) as \"Кол-во вакансий\",\n",
        "                  a.name as \"Город\",\n",
        "                  ind.name as \"Сфера деятельности\" \n",
        "                from\n",
        "                  public.vacancies as v\n",
        "                  join (select *\n",
        "                        from\n",
        "                          public.employers_industries ei\n",
        "                          join public.industries i on i.id=ei.industry_id) as ind on ind.employer_id = v.employer_id\n",
        "                  join public. areas a on a.id = v.area_id\n",
        "                where\n",
        "                  v.schedule = 'Удаленная работа'  \n",
        "                group by 2, 3  \n",
        "                order by 1 desc  \n",
        "                limit 15           \n",
        "            '''"
      ]
    },
    {
      "cell_type": "code",
      "execution_count": 106,
      "id": "df281b42",
      "metadata": {},
      "outputs": [
        {
          "data": {
            "text/html": [
              "<div>\n",
              "<style scoped>\n",
              "    .dataframe tbody tr th:only-of-type {\n",
              "        vertical-align: middle;\n",
              "    }\n",
              "\n",
              "    .dataframe tbody tr th {\n",
              "        vertical-align: top;\n",
              "    }\n",
              "\n",
              "    .dataframe thead th {\n",
              "        text-align: right;\n",
              "    }\n",
              "</style>\n",
              "<table border=\"1\" class=\"dataframe\">\n",
              "  <thead>\n",
              "    <tr style=\"text-align: right;\">\n",
              "      <th></th>\n",
              "      <th>Кол-во вакансий</th>\n",
              "      <th>Город</th>\n",
              "      <th>Сфера деятельности</th>\n",
              "    </tr>\n",
              "  </thead>\n",
              "  <tbody>\n",
              "    <tr>\n",
              "      <th>0</th>\n",
              "      <td>305</td>\n",
              "      <td>Москва</td>\n",
              "      <td>Разработка программного обеспечения</td>\n",
              "    </tr>\n",
              "    <tr>\n",
              "      <th>1</th>\n",
              "      <td>253</td>\n",
              "      <td>Москва</td>\n",
              "      <td>Системная интеграция,  автоматизации технологи...</td>\n",
              "    </tr>\n",
              "    <tr>\n",
              "      <th>2</th>\n",
              "      <td>191</td>\n",
              "      <td>Минск</td>\n",
              "      <td>Разработка программного обеспечения</td>\n",
              "    </tr>\n",
              "    <tr>\n",
              "      <th>3</th>\n",
              "      <td>187</td>\n",
              "      <td>Москва</td>\n",
              "      <td>Интернет-компания (поисковики, платежные систе...</td>\n",
              "    </tr>\n",
              "    <tr>\n",
              "      <th>4</th>\n",
              "      <td>159</td>\n",
              "      <td>Алматы</td>\n",
              "      <td>Разработка программного обеспечения</td>\n",
              "    </tr>\n",
              "    <tr>\n",
              "      <th>5</th>\n",
              "      <td>156</td>\n",
              "      <td>Санкт-Петербург</td>\n",
              "      <td>Разработка программного обеспечения</td>\n",
              "    </tr>\n",
              "    <tr>\n",
              "      <th>6</th>\n",
              "      <td>145</td>\n",
              "      <td>Новосибирск</td>\n",
              "      <td>Разработка программного обеспечения</td>\n",
              "    </tr>\n",
              "    <tr>\n",
              "      <th>7</th>\n",
              "      <td>142</td>\n",
              "      <td>Нижний Новгород</td>\n",
              "      <td>Разработка программного обеспечения</td>\n",
              "    </tr>\n",
              "    <tr>\n",
              "      <th>8</th>\n",
              "      <td>141</td>\n",
              "      <td>Алматы</td>\n",
              "      <td>Системная интеграция,  автоматизации технологи...</td>\n",
              "    </tr>\n",
              "    <tr>\n",
              "      <th>9</th>\n",
              "      <td>132</td>\n",
              "      <td>Нур-Султан</td>\n",
              "      <td>Разработка программного обеспечения</td>\n",
              "    </tr>\n",
              "    <tr>\n",
              "      <th>10</th>\n",
              "      <td>132</td>\n",
              "      <td>Нур-Султан</td>\n",
              "      <td>Системная интеграция,  автоматизации технологи...</td>\n",
              "    </tr>\n",
              "    <tr>\n",
              "      <th>11</th>\n",
              "      <td>129</td>\n",
              "      <td>Санкт-Петербург</td>\n",
              "      <td>Системная интеграция,  автоматизации технологи...</td>\n",
              "    </tr>\n",
              "    <tr>\n",
              "      <th>12</th>\n",
              "      <td>125</td>\n",
              "      <td>Нижний Новгород</td>\n",
              "      <td>Системная интеграция,  автоматизации технологи...</td>\n",
              "    </tr>\n",
              "    <tr>\n",
              "      <th>13</th>\n",
              "      <td>105</td>\n",
              "      <td>Санкт-Петербург</td>\n",
              "      <td>Интернет-компания (поисковики, платежные систе...</td>\n",
              "    </tr>\n",
              "    <tr>\n",
              "      <th>14</th>\n",
              "      <td>98</td>\n",
              "      <td>Новосибирск</td>\n",
              "      <td>Системная интеграция,  автоматизации технологи...</td>\n",
              "    </tr>\n",
              "  </tbody>\n",
              "</table>\n",
              "</div>"
            ],
            "text/plain": [
              "    Кол-во вакансий            Город  \\\n",
              "0               305           Москва   \n",
              "1               253           Москва   \n",
              "2               191            Минск   \n",
              "3               187           Москва   \n",
              "4               159           Алматы   \n",
              "5               156  Санкт-Петербург   \n",
              "6               145      Новосибирск   \n",
              "7               142  Нижний Новгород   \n",
              "8               141           Алматы   \n",
              "9               132       Нур-Султан   \n",
              "10              132       Нур-Султан   \n",
              "11              129  Санкт-Петербург   \n",
              "12              125  Нижний Новгород   \n",
              "13              105  Санкт-Петербург   \n",
              "14               98      Новосибирск   \n",
              "\n",
              "                                   Сфера деятельности  \n",
              "0                 Разработка программного обеспечения  \n",
              "1   Системная интеграция,  автоматизации технологи...  \n",
              "2                 Разработка программного обеспечения  \n",
              "3   Интернет-компания (поисковики, платежные систе...  \n",
              "4                 Разработка программного обеспечения  \n",
              "5                 Разработка программного обеспечения  \n",
              "6                 Разработка программного обеспечения  \n",
              "7                 Разработка программного обеспечения  \n",
              "8   Системная интеграция,  автоматизации технологи...  \n",
              "9                 Разработка программного обеспечения  \n",
              "10  Системная интеграция,  автоматизации технологи...  \n",
              "11  Системная интеграция,  автоматизации технологи...  \n",
              "12  Системная интеграция,  автоматизации технологи...  \n",
              "13  Интернет-компания (поисковики, платежные систе...  \n",
              "14  Системная интеграция,  автоматизации технологи...  "
            ]
          },
          "execution_count": 106,
          "metadata": {},
          "output_type": "execute_result"
        }
      ],
      "source": [
        "# результат запроса\n",
        "df_7_3 = pd.read_sql_query(query_7_3, connection)\n",
        "df_7_3"
      ]
    },
    {
      "cell_type": "code",
      "execution_count": 108,
      "id": "40851bd2",
      "metadata": {},
      "outputs": [
        {
          "data": {
            "image/png": "[encoded data removed]",
            "text/plain": [
              "<Figure size 1000x600 with 1 Axes>"
            ]
          },
          "metadata": {},
          "output_type": "display_data"
        }
      ],
      "source": [
        "plt.figure(figsize=(10, 6))\n",
        "sns.barplot(data=df_7_3, x='Город', y='Кол-во вакансий', hue='Сфера деятельности')\n",
        "\n",
        "# Настройка заголовка и меток осей\n",
        "plt.title('Количество вакансий с удаленным форматом работы по городам и сферам деятельности', fontsize=17)\n",
        "plt.xlabel('Город')\n",
        "plt.ylabel('Количество вакансий')\n",
        "plt.xticks(rotation=45)\n",
        "plt.legend(title='Сфера деятельности', bbox_to_anchor=(1, 1))\n",
        "plt.tight_layout();"
      ]
    },
    {
      "cell_type": "markdown",
      "id": "aad93fd2",
      "metadata": {},
      "source": [
        "Выводы:\n",
        "\n",
        "* Москва и Санкт-Петербург являются лидерами по количеству вакансий с удаленной формой работы. Это может указывать на высокую концентрацию IT-компаний и компаний, готовых предоставить возможность удаленной работы в этих городах.\n",
        "\n",
        "* Сфера деятельности, где удаленная работа наиболее распространена, - разработка программного обеспечения и системная интеграция, автоматизации технологий. Это свидетельствует о том, что в этих областях востребованы специалисты, которые могут эффективно работать удаленно.\n",
        "\n",
        "* Города Минск, Нур-Султан, Нижний Новгород и Новосибирск также имеют значительное количество вакансий с удаленной формой работы, что может указывать на развитие IT-сферы и готовность компаний в этих регионах к работе с удаленными сотрудниками.\n",
        "\n",
        "* В целом, данные свидетельствуют о том, что удаленная работа становится все более популярной и доступной для специалистов в IT-сфере, и это открывает дополнительные возможности для поиска работы и трудоустройства, особенно для тех, кто живет в регионах, где меньше традиционных IT-центров."
      ]
    },
    {
      "cell_type": "markdown",
      "id": "cae5b799",
      "metadata": {},
      "source": [
        "***"
      ]
    },
    {
      "cell_type": "markdown",
      "id": "f0a6003c",
      "metadata": {},
      "source": [
        "4. Определим сферы деятельности, в которых от кандидатов требуется большее количество навыков.\n",
        "\n",
        "Узнаем среднее количество навыков для каждой сферы деятельности, и сколько вакансий у нас имеется из данной области, отсортируем по убыванию количества навыков."
      ]
    },
    {
      "cell_type": "code",
      "execution_count": 141,
      "id": "901c076b",
      "metadata": {},
      "outputs": [],
      "source": [
        "# текст запроса\n",
        "query_7_4 = f'''select\n",
        "                  ind.name as \"Сфера деятельности\",\n",
        "                  count(*) as \"Кол-во вакансий\",\n",
        "                  round(avg(length(v.key_skills) - length(replace(v.key_skills, '\\t', '')) + 1), 1) as \"Среднее кол-во навыков\"\n",
        "                from\n",
        "                  public.vacancies as v\n",
        "                  join (select *\n",
        "                        from\n",
        "                          public.employers_industries ei\n",
        "                          join public.industries i on i.id=ei.industry_id) as ind on ind.employer_id = v.employer_id\n",
        "                group by\n",
        "                  ind.name\n",
        "                order by\n",
        "                  3 desc   \n",
        "            '''"
      ]
    },
    {
      "cell_type": "code",
      "execution_count": 142,
      "id": "b352e0c0",
      "metadata": {},
      "outputs": [
        {
          "data": {
            "text/html": [
              "<div>\n",
              "<style scoped>\n",
              "    .dataframe tbody tr th:only-of-type {\n",
              "        vertical-align: middle;\n",
              "    }\n",
              "\n",
              "    .dataframe tbody tr th {\n",
              "        vertical-align: top;\n",
              "    }\n",
              "\n",
              "    .dataframe thead th {\n",
              "        text-align: right;\n",
              "    }\n",
              "</style>\n",
              "<table border=\"1\" class=\"dataframe\">\n",
              "  <thead>\n",
              "    <tr style=\"text-align: right;\">\n",
              "      <th></th>\n",
              "      <th>Сфера деятельности</th>\n",
              "      <th>Кол-во вакансий</th>\n",
              "      <th>Среднее кол-во навыков</th>\n",
              "    </tr>\n",
              "  </thead>\n",
              "  <tbody>\n",
              "    <tr>\n",
              "      <th>0</th>\n",
              "      <td>Продюсерский центр</td>\n",
              "      <td>46</td>\n",
              "      <td>10.8</td>\n",
              "    </tr>\n",
              "    <tr>\n",
              "      <th>1</th>\n",
              "      <td>Корма для животных (производство)</td>\n",
              "      <td>41</td>\n",
              "      <td>9.4</td>\n",
              "    </tr>\n",
              "    <tr>\n",
              "      <th>2</th>\n",
              "      <td>Зоомагазин</td>\n",
              "      <td>42</td>\n",
              "      <td>9.4</td>\n",
              "    </tr>\n",
              "    <tr>\n",
              "      <th>3</th>\n",
              "      <td>Консервированная продукция (производство)</td>\n",
              "      <td>36</td>\n",
              "      <td>9.3</td>\n",
              "    </tr>\n",
              "    <tr>\n",
              "      <th>4</th>\n",
              "      <td>Услуги по организации поездок и бронированию</td>\n",
              "      <td>51</td>\n",
              "      <td>8.9</td>\n",
              "    </tr>\n",
              "    <tr>\n",
              "      <th>...</th>\n",
              "      <td>...</td>\n",
              "      <td>...</td>\n",
              "      <td>...</td>\n",
              "    </tr>\n",
              "    <tr>\n",
              "      <th>288</th>\n",
              "      <td>Сахар (производство)</td>\n",
              "      <td>21</td>\n",
              "      <td>4.9</td>\n",
              "    </tr>\n",
              "    <tr>\n",
              "      <th>289</th>\n",
              "      <td>Судоремонт</td>\n",
              "      <td>7</td>\n",
              "      <td>4.8</td>\n",
              "    </tr>\n",
              "    <tr>\n",
              "      <th>290</th>\n",
              "      <td>Продукция судостроения (продвижение, оптовая т...</td>\n",
              "      <td>10</td>\n",
              "      <td>4.6</td>\n",
              "    </tr>\n",
              "    <tr>\n",
              "      <th>291</th>\n",
              "      <td>Оборудование для деревообработки, заготовки ле...</td>\n",
              "      <td>9</td>\n",
              "      <td>4.6</td>\n",
              "    </tr>\n",
              "    <tr>\n",
              "      <th>292</th>\n",
              "      <td>Спортивные товары и оборудование (производство)</td>\n",
              "      <td>11</td>\n",
              "      <td>4.6</td>\n",
              "    </tr>\n",
              "  </tbody>\n",
              "</table>\n",
              "<p>293 rows × 3 columns</p>\n",
              "</div>"
            ],
            "text/plain": [
              "                                    Сфера деятельности  Кол-во вакансий  \\\n",
              "0                                   Продюсерский центр               46   \n",
              "1                    Корма для животных (производство)               41   \n",
              "2                                           Зоомагазин               42   \n",
              "3            Консервированная продукция (производство)               36   \n",
              "4         Услуги по организации поездок и бронированию               51   \n",
              "..                                                 ...              ...   \n",
              "288                               Сахар (производство)               21   \n",
              "289                                         Судоремонт                7   \n",
              "290  Продукция судостроения (продвижение, оптовая т...               10   \n",
              "291  Оборудование для деревообработки, заготовки ле...                9   \n",
              "292    Спортивные товары и оборудование (производство)               11   \n",
              "\n",
              "     Среднее кол-во навыков  \n",
              "0                      10.8  \n",
              "1                       9.4  \n",
              "2                       9.4  \n",
              "3                       9.3  \n",
              "4                       8.9  \n",
              "..                      ...  \n",
              "288                     4.9  \n",
              "289                     4.8  \n",
              "290                     4.6  \n",
              "291                     4.6  \n",
              "292                     4.6  \n",
              "\n",
              "[293 rows x 3 columns]"
            ]
          },
          "execution_count": 142,
          "metadata": {},
          "output_type": "execute_result"
        }
      ],
      "source": [
        "# результат запроса\n",
        "df_7_4 = pd.read_sql_query(query_7_4, connection)\n",
        "df_7_4"
      ]
    },
    {
      "cell_type": "code",
      "execution_count": 158,
      "id": "0b51eabe",
      "metadata": {},
      "outputs": [
        {
          "data": {
            "image/png": "[encoded data removed]",
            "text/plain": [
              "<Figure size 1300x700 with 1 Axes>"
            ]
          },
          "metadata": {},
          "output_type": "display_data"
        }
      ],
      "source": [
        "plt.figure(figsize=(13, 7))\n",
        "# для наглядности графика, возьмем только топ-7 сфер деятельности \n",
        "sns.barplot(data=df_7_4.head(7) ,x=\"Сфера деятельности\", y=\"Среднее кол-во навыков\", palette='bright')\n",
        "\n",
        "# Настройка осей и заголовка\n",
        "plt.xlabel(\"Сфера деятельности\")\n",
        "plt.xticks(rotation=45)\n",
        "plt.ylabel(\"Среднее количество навыков\")\n",
        "plt.title(\"Среднее количество навыков по сферам деятельности\", fontsize=18);\n"
      ]
    },
    {
      "cell_type": "markdown",
      "id": "b7756dc7",
      "metadata": {},
      "source": [
        "Вывод:\n",
        "\n",
        "Сферы деятельности, такие как \"Продюсерский центр\", \"Корма для животных (производство)\" и \"Зоомагазин\", требуют от кандидатов наибольшее среднее количество навыков (10.8, 9.4 и 9.4 соответственно). Это может указывать на высокую степень комплексности и требовательности к вакансиям в этих сферах, в этих сферах существует активный спрос на специалистов с широким набором навыков.\n",
        "\n",
        "Сферы деятельности, такие как \"Судоремонт\" и \"Продукция судостроения (продвижение, оптовая торговля)\", имеют низкое количество вакансий и низкое среднее количество требуемых навыков. Это может свидетельствовать о меньшей конкуренции на рынке труда в этих областях и более специализированных требованиях к кандидатам, а так же о том что эти сферы нуждаются в более узконаправленных специалистах.\n",
        "\n"
      ]
    },
    {
      "cell_type": "markdown",
      "id": "1bc04598",
      "metadata": {},
      "source": [
        "***"
      ]
    },
    {
      "cell_type": "markdown",
      "id": "c0ED6fh7wiBT",
      "metadata": {
        "id": "c0ED6fh7wiBT"
      },
      "source": [
        "# Общий вывод по проекту\n",
        "\n",
        "Проведенное исследование вакансий предоставило ценную информацию о текущем состоянии рынка труда в определенном сегменте. В ходе анализа были выявлены несколько ключевых моментов:\n",
        "\n",
        "1. Вакансии, связанные с обработкой и анализом данных, выделяются на фоне других сфер деятельности. Это объясняется широким использованием данных в современном мире, особенно в контексте развития цифровой экономики и технологий. Поэтому специалисты в области данных, такие как аналитики данных, инженеры по анализу данных и специалисты по машинному обучению, востребованы на рынке труда.\n",
        "\n",
        "2. Москва является лидером по количеству вакансий, что может быть объяснено ее статусом крупного экономического и культурного центра, а также местоположением офисов многих крупных компаний. Санкт-Петербург также имеет значительное количество вакансий, но чуть меньше по сравнению с Москвой. В других городах число вакансий обычно ниже, что может быть связано с меньшим размером и развитием экономики этих регионов. Однако широкая география вакансий указывает на динамичность и разнообразие рынка труда.\n",
        "\n",
        "3. Наличие вакансий в удаленном формате указывает на то, что работодатели всё более открыты к удаленной работе, что может быть связано с развитием технологий информационной связи и увеличением количества проектов, в которых удаленная работа возможна.\n",
        "\n",
        "4. Важными требованиями для соискателей являются знание Python, SQL. Это отражает актуальные тенденции в сфере информационных технологий и аналитики данных. Среднее количество ключевых навыков в вакансиях подтверждает высокие стандарты, предъявляемые к потенциальным кандидатам.\n",
        "\n",
        "5. Средняя зарплата дата-саентиста варьируется в зависимости от опыта работы, причем средние значения превышают средний уровень оплаты труда в стране. Это свидетельствует о высокой востребованности специалистов в этой области и готовности работодателей предложить конкурентоспособные условия.\n",
        "\n",
        "6. Работодатель \"Яндекс\" выделяется на фоне других компаний по количеству размещенных вакансий и географическому охвату. Это указывает на высокий статус и значимость компании на рынке труда.\n",
        "\n",
        "7. Среди востребованных должностей преобладают позиции в IT-сфере, такие как системный администратор, программисты различных направлений, бизнес-аналитики и аналитики. Это свидетельствует о значимости цифровизации и автоматизации бизнес-процессов для современных компаний и о необходимости квалифицированных специалистов для поддержания и развития информационной инфраструктуры.\n",
        "\n",
        "8. Сферы деятельности с высоким средним количеством требуемых навыков, такие как \"Продюсерский центр\" и \"Зоомагазин\", могут представлять интерес для специалистов с широким набором компетенций. В то время как сферы с более специализированными требованиями, например, \"Судоремонт\" и \"Продукция судостроения\", могут быть привлекательны для специалистов с узконаправленными навыками.\n",
        "\n",
        "В целом, данные позволяют сделать вывод о динамичности и разнообразии рынка труда, с активной конкуренцией в IT-сфере и повышенными требованиями к специалистам в некоторых отраслях. Это подчеркивает важность непрерывного обучения и развития профессиональных навыков для успешной карьеры в современном мире.\n",
        "\n",
        "\n",
        "Прогноз:\n",
        "\n",
        "С учетом растущего количества данных, в том числе в сферах e-commerce, медицины, финансов и других, спрос на специалистов в области данных, в том числе аналитиков данных и специалистов по машинному обучению, вероятно, будет продолжать расти.\n",
        "Удаленная работа, особенно в сфере информационных технологий и связанных с ними отраслях, будет оставаться популярной и, возможно, будет даже расширяться в будущем, что может привести к изменениям в организации работы и структуре занятости.\n",
        "С увеличением числа вакансий в сфере данных ожидается также рост конкуренции среди соискателей на эти позиции, что может повлиять на требования к квалификации и уровень оплаты труда."
      ]
    }
  ],
  "metadata": {
    "colab": {
      "collapsed_sections": [
        "8d62a9f3-f64e-4fe7-bdac-c4dffa16155e"
      ],
      "provenance": []
    },
    "kernelspec": {
      "display_name": "Python 3 (ipykernel)",
      "language": "python",
      "name": "python3"
    },
    "language_info": {
      "codemirror_mode": {
        "name": "ipython",
        "version": 3
      },
      "file_extension": ".py",
      "mimetype": "text/x-python",
      "name": "python",
      "nbconvert_exporter": "python",
      "pygments_lexer": "ipython3",
      "version": "3.11.6"
    }
  },
  "nbformat": 4,
  "nbformat_minor": 5
}
